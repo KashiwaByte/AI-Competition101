{
 "cells": [
  {
   "cell_type": "code",
   "execution_count": 1,
   "id": "9cb66b60",
   "metadata": {
    "_cell_guid": "b1076dfc-b9ad-4769-8c92-a6c4dae69d19",
    "_uuid": "8f2839f25d086af736a60e9eeb907d3b93b6e0e5",
    "execution": {
     "iopub.execute_input": "2023-02-17T13:49:55.430440Z",
     "iopub.status.busy": "2023-02-17T13:49:55.429810Z",
     "iopub.status.idle": "2023-02-17T13:49:55.447336Z",
     "shell.execute_reply": "2023-02-17T13:49:55.446385Z"
    },
    "papermill": {
     "duration": 0.031538,
     "end_time": "2023-02-17T13:49:55.450138",
     "exception": false,
     "start_time": "2023-02-17T13:49:55.418600",
     "status": "completed"
    },
    "tags": []
   },
   "outputs": [
    {
     "name": "stdout",
     "output_type": "stream",
     "text": [
      "/kaggle/input/deepshare-playground-series2/sample_submission.csv\n",
      "/kaggle/input/deepshare-playground-series2/train_data.csv\n",
      "/kaggle/input/deepshare-playground-series2/test_data.csv\n"
     ]
    }
   ],
   "source": [
    "# This Python 3 environment comes with many helpful analytics libraries installed\n",
    "# It is defined by the kaggle/python Docker image: https://github.com/kaggle/docker-python\n",
    "# For example, here's several helpful packages to load\n",
    "\n",
    "import numpy as np # linear algebra\n",
    "import pandas as pd # data processing, CSV file I/O (e.g. pd.read_csv)\n",
    "\n",
    "# Input data files are available in the read-only \"../input/\" directory\n",
    "# For example, running this (by clicking run or pressing Shift+Enter) will list all files under the input directory\n",
    "\n",
    "import os\n",
    "for dirname, _, filenames in os.walk('/kaggle/input'):\n",
    "    for filename in filenames:\n",
    "        print(os.path.join(dirname, filename))\n",
    "\n",
    "# You can write up to 20GB to the current directory (/kaggle/working/) that gets preserved as output when you create a version using \"Save & Run All\" \n",
    "# You can also write temporary files to /kaggle/temp/, but they won't be saved outside of the current session"
   ]
  },
  {
   "cell_type": "code",
   "execution_count": 2,
   "id": "557b9476",
   "metadata": {
    "execution": {
     "iopub.execute_input": "2023-02-17T13:49:55.468555Z",
     "iopub.status.busy": "2023-02-17T13:49:55.468116Z",
     "iopub.status.idle": "2023-02-17T13:49:57.810657Z",
     "shell.execute_reply": "2023-02-17T13:49:57.809073Z"
    },
    "papermill": {
     "duration": 2.355927,
     "end_time": "2023-02-17T13:49:57.814605",
     "exception": false,
     "start_time": "2023-02-17T13:49:55.458678",
     "status": "completed"
    },
    "tags": []
   },
   "outputs": [
    {
     "data": {
      "text/html": [
       "<style type='text/css'>\n",
       ".datatable table.frame { margin-bottom: 0; }\n",
       ".datatable table.frame thead { border-bottom: none; }\n",
       ".datatable table.frame tr.coltypes td {  color: #FFFFFF;  line-height: 6px;  padding: 0 0.5em;}\n",
       ".datatable .bool    { background: #DDDD99; }\n",
       ".datatable .object  { background: #565656; }\n",
       ".datatable .int     { background: #5D9E5D; }\n",
       ".datatable .float   { background: #4040CC; }\n",
       ".datatable .str     { background: #CC4040; }\n",
       ".datatable .time    { background: #40CC40; }\n",
       ".datatable .row_index {  background: var(--jp-border-color3);  border-right: 1px solid var(--jp-border-color0);  color: var(--jp-ui-font-color3);  font-size: 9px;}\n",
       ".datatable .frame tbody td { text-align: left; }\n",
       ".datatable .frame tr.coltypes .row_index {  background: var(--jp-border-color0);}\n",
       ".datatable th:nth-child(2) { padding-left: 12px; }\n",
       ".datatable .hellipsis {  color: var(--jp-cell-editor-border-color);}\n",
       ".datatable .vellipsis {  background: var(--jp-layout-color0);  color: var(--jp-cell-editor-border-color);}\n",
       ".datatable .na {  color: var(--jp-cell-editor-border-color);  font-size: 80%;}\n",
       ".datatable .sp {  opacity: 0.25;}\n",
       ".datatable .footer { font-size: 9px; }\n",
       ".datatable .frame_dimensions {  background: var(--jp-border-color3);  border-top: 1px solid var(--jp-border-color0);  color: var(--jp-ui-font-color3);  display: inline-block;  opacity: 0.6;  padding: 1px 10px 1px 5px;}\n",
       "</style>\n"
      ],
      "text/plain": [
       "<IPython.core.display.HTML object>"
      ]
     },
     "metadata": {},
     "output_type": "display_data"
    }
   ],
   "source": [
    "from tqdm.notebook import tqdm\n",
    "from matplotlib import pyplot as plt\n",
    "import seaborn as sns\n",
    "import lightgbm as lgb\n",
    "import multiprocessing\n",
    "\n",
    "from sklearn.preprocessing import LabelEncoder, MinMaxScaler, StandardScaler\n",
    "from sklearn.model_selection import KFold, ShuffleSplit, StratifiedKFold\n",
    "from sklearn.metrics import roc_auc_score, log_loss"
   ]
  },
  {
   "cell_type": "markdown",
   "id": "de3fb8fc",
   "metadata": {
    "papermill": {
     "duration": 0.009994,
     "end_time": "2023-02-17T13:49:57.833333",
     "exception": false,
     "start_time": "2023-02-17T13:49:57.823339",
     "status": "completed"
    },
    "tags": []
   },
   "source": [
    "# Course-2 主要内容\n",
    "## 1.数据处理\n",
    "* 数据读取\n",
    "* 数据预处理\n",
    "* Pandas 处理一列数据的逻辑(map/apply)\n",
    "\n",
    "## 2.模型调用\n",
    "* scikit-learn 经典模型使用\n",
    "* lightgbm/xgboost/catboost 模型使用\n",
    "\n",
    "## 3.模型验证\n",
    "* hold out验证\n",
    "* 交叉验证"
   ]
  },
  {
   "cell_type": "markdown",
   "id": "447b292f",
   "metadata": {
    "papermill": {
     "duration": 0.008421,
     "end_time": "2023-02-17T13:49:57.851071",
     "exception": false,
     "start_time": "2023-02-17T13:49:57.842650",
     "status": "completed"
    },
    "tags": []
   },
   "source": [
    "# 1.数据处理"
   ]
  },
  {
   "cell_type": "code",
   "execution_count": 3,
   "id": "e74562a5",
   "metadata": {
    "execution": {
     "iopub.execute_input": "2023-02-17T13:49:57.870685Z",
     "iopub.status.busy": "2023-02-17T13:49:57.869990Z",
     "iopub.status.idle": "2023-02-17T13:50:36.611987Z",
     "shell.execute_reply": "2023-02-17T13:50:36.610375Z"
    },
    "papermill": {
     "duration": 38.75502,
     "end_time": "2023-02-17T13:50:36.614902",
     "exception": false,
     "start_time": "2023-02-17T13:49:57.859882",
     "status": "completed"
    },
    "tags": []
   },
   "outputs": [],
   "source": [
    "train_df = pd.read_csv('/kaggle/input/deepshare-playground-series2/train_data.csv')\n",
    "test_df = pd.read_csv('/kaggle/input/deepshare-playground-series2/test_data.csv')\n",
    "\n",
    "# label转成int32\n",
    "train_df['label'] = train_df['label'].astype('int32')"
   ]
  },
  {
   "cell_type": "code",
   "execution_count": 4,
   "id": "6ff5d66b",
   "metadata": {
    "execution": {
     "iopub.execute_input": "2023-02-17T13:50:36.634247Z",
     "iopub.status.busy": "2023-02-17T13:50:36.633791Z",
     "iopub.status.idle": "2023-02-17T13:50:42.129116Z",
     "shell.execute_reply": "2023-02-17T13:50:42.127613Z"
    },
    "papermill": {
     "duration": 5.50854,
     "end_time": "2023-02-17T13:50:42.132025",
     "exception": false,
     "start_time": "2023-02-17T13:50:36.623485",
     "status": "completed"
    },
    "tags": []
   },
   "outputs": [],
   "source": [
    "# 把train&test拼在一起，方便后续的数据编码\n",
    "df = pd.concat([train_df,test_df],axis=0).reset_index(drop=True)"
   ]
  },
  {
   "cell_type": "code",
   "execution_count": 5,
   "id": "b7fbaf2d",
   "metadata": {
    "execution": {
     "iopub.execute_input": "2023-02-17T13:50:42.151585Z",
     "iopub.status.busy": "2023-02-17T13:50:42.151125Z",
     "iopub.status.idle": "2023-02-17T13:50:42.179990Z",
     "shell.execute_reply": "2023-02-17T13:50:42.178792Z"
    },
    "papermill": {
     "duration": 0.041174,
     "end_time": "2023-02-17T13:50:42.182535",
     "exception": false,
     "start_time": "2023-02-17T13:50:42.141361",
     "status": "completed"
    },
    "tags": []
   },
   "outputs": [
    {
     "data": {
      "text/html": [
       "<div>\n",
       "<style scoped>\n",
       "    .dataframe tbody tr th:only-of-type {\n",
       "        vertical-align: middle;\n",
       "    }\n",
       "\n",
       "    .dataframe tbody tr th {\n",
       "        vertical-align: top;\n",
       "    }\n",
       "\n",
       "    .dataframe thead th {\n",
       "        text-align: right;\n",
       "    }\n",
       "</style>\n",
       "<table border=\"1\" class=\"dataframe\">\n",
       "  <thead>\n",
       "    <tr style=\"text-align: right;\">\n",
       "      <th></th>\n",
       "      <th>label</th>\n",
       "      <th>user_id</th>\n",
       "      <th>item_id</th>\n",
       "      <th>item_fea1</th>\n",
       "      <th>user_fea1</th>\n",
       "      <th>user_fea2</th>\n",
       "      <th>user_fea3</th>\n",
       "      <th>user_fea4</th>\n",
       "      <th>lng</th>\n",
       "      <th>lat</th>\n",
       "      <th>user_fea5</th>\n",
       "      <th>ts</th>\n",
       "      <th>user_fea6</th>\n",
       "      <th>user_fea7</th>\n",
       "      <th>user_fea8</th>\n",
       "      <th>user_fea9</th>\n",
       "      <th>user_tag</th>\n",
       "      <th>ID</th>\n",
       "    </tr>\n",
       "  </thead>\n",
       "  <tbody>\n",
       "    <tr>\n",
       "      <th>0</th>\n",
       "      <td>0.0</td>\n",
       "      <td>WgwGia5U3IS4BXkm</td>\n",
       "      <td>WORhuXJqpf4brDGS</td>\n",
       "      <td>2</td>\n",
       "      <td>KmsYcoDyQi7zprXT</td>\n",
       "      <td>yrLNj2BzDhEQTws5</td>\n",
       "      <td>3Xvgq4YJCV2DHb0o</td>\n",
       "      <td>wLQbAfi9agGtNj8M</td>\n",
       "      <td>108.664005</td>\n",
       "      <td>22.244352</td>\n",
       "      <td>W8b1IqPHxX9aGQYF</td>\n",
       "      <td>1573193245778</td>\n",
       "      <td>0.0</td>\n",
       "      <td>10.0</td>\n",
       "      <td>28.0</td>\n",
       "      <td>0.0</td>\n",
       "      <td>['1', '2', '3', '4', '5', '6', '7', '8', '9', ...</td>\n",
       "      <td>0</td>\n",
       "    </tr>\n",
       "    <tr>\n",
       "      <th>1</th>\n",
       "      <td>0.0</td>\n",
       "      <td>WgwGia5U3IS4BXkm</td>\n",
       "      <td>WORhuXJqpf4brDGS</td>\n",
       "      <td>2</td>\n",
       "      <td>KmsYcoDyQi7zprXT</td>\n",
       "      <td>yrLNj2BzDhEQTws5</td>\n",
       "      <td>3Xvgq4YJCV2DHb0o</td>\n",
       "      <td>wLQbAfi9agGtNj8M</td>\n",
       "      <td>108.664005</td>\n",
       "      <td>22.244352</td>\n",
       "      <td>W8b1IqPHxX9aGQYF</td>\n",
       "      <td>1573193245778</td>\n",
       "      <td>0.0</td>\n",
       "      <td>10.0</td>\n",
       "      <td>28.0</td>\n",
       "      <td>0.0</td>\n",
       "      <td>['62', '63', '64', '65', '3', '66', '8', '9', ...</td>\n",
       "      <td>1</td>\n",
       "    </tr>\n",
       "    <tr>\n",
       "      <th>2</th>\n",
       "      <td>0.0</td>\n",
       "      <td>WgwGia5U3IS4BXkm</td>\n",
       "      <td>zJnsmI6OET3jSUuB</td>\n",
       "      <td>0</td>\n",
       "      <td>KmsYcoDyQi7zprXT</td>\n",
       "      <td>yrLNj2BzDhEQTws5</td>\n",
       "      <td>OoFYqTPyxKfASCwR</td>\n",
       "      <td>wLQbAfi9agGtNj8M</td>\n",
       "      <td>108.665033</td>\n",
       "      <td>22.246721</td>\n",
       "      <td>W8b1IqPHxX9aGQYF</td>\n",
       "      <td>1573300837960</td>\n",
       "      <td>0.0</td>\n",
       "      <td>10.0</td>\n",
       "      <td>28.0</td>\n",
       "      <td>0.0</td>\n",
       "      <td>['1', '2', '3', '4', '5', '6', '7', '8', '9', ...</td>\n",
       "      <td>2</td>\n",
       "    </tr>\n",
       "    <tr>\n",
       "      <th>3</th>\n",
       "      <td>0.0</td>\n",
       "      <td>WgwGia5U3IS4BXkm</td>\n",
       "      <td>zJnsmI6OET3jSUuB</td>\n",
       "      <td>0</td>\n",
       "      <td>KmsYcoDyQi7zprXT</td>\n",
       "      <td>yrLNj2BzDhEQTws5</td>\n",
       "      <td>OoFYqTPyxKfASCwR</td>\n",
       "      <td>wLQbAfi9agGtNj8M</td>\n",
       "      <td>108.665033</td>\n",
       "      <td>22.246721</td>\n",
       "      <td>W8b1IqPHxX9aGQYF</td>\n",
       "      <td>1573300837960</td>\n",
       "      <td>0.0</td>\n",
       "      <td>10.0</td>\n",
       "      <td>28.0</td>\n",
       "      <td>0.0</td>\n",
       "      <td>['62', '63', '64', '65', '3', '66', '8', '9', ...</td>\n",
       "      <td>3</td>\n",
       "    </tr>\n",
       "    <tr>\n",
       "      <th>4</th>\n",
       "      <td>0.0</td>\n",
       "      <td>WgwGia5U3IS4BXkm</td>\n",
       "      <td>zJnsmI6OET3jSUuB</td>\n",
       "      <td>0</td>\n",
       "      <td>KmsYcoDyQi7zprXT</td>\n",
       "      <td>yrLNj2BzDhEQTws5</td>\n",
       "      <td>OoFYqTPyxKfASCwR</td>\n",
       "      <td>wLQbAfi9agGtNj8M</td>\n",
       "      <td>108.665033</td>\n",
       "      <td>22.246721</td>\n",
       "      <td>W8b1IqPHxX9aGQYF</td>\n",
       "      <td>1573311745524</td>\n",
       "      <td>0.0</td>\n",
       "      <td>10.0</td>\n",
       "      <td>28.0</td>\n",
       "      <td>0.0</td>\n",
       "      <td>['1', '2', '3', '4', '5', '6', '7', '8', '9', ...</td>\n",
       "      <td>4</td>\n",
       "    </tr>\n",
       "  </tbody>\n",
       "</table>\n",
       "</div>"
      ],
      "text/plain": [
       "   label           user_id           item_id  item_fea1         user_fea1  \\\n",
       "0    0.0  WgwGia5U3IS4BXkm  WORhuXJqpf4brDGS          2  KmsYcoDyQi7zprXT   \n",
       "1    0.0  WgwGia5U3IS4BXkm  WORhuXJqpf4brDGS          2  KmsYcoDyQi7zprXT   \n",
       "2    0.0  WgwGia5U3IS4BXkm  zJnsmI6OET3jSUuB          0  KmsYcoDyQi7zprXT   \n",
       "3    0.0  WgwGia5U3IS4BXkm  zJnsmI6OET3jSUuB          0  KmsYcoDyQi7zprXT   \n",
       "4    0.0  WgwGia5U3IS4BXkm  zJnsmI6OET3jSUuB          0  KmsYcoDyQi7zprXT   \n",
       "\n",
       "          user_fea2         user_fea3         user_fea4         lng  \\\n",
       "0  yrLNj2BzDhEQTws5  3Xvgq4YJCV2DHb0o  wLQbAfi9agGtNj8M  108.664005   \n",
       "1  yrLNj2BzDhEQTws5  3Xvgq4YJCV2DHb0o  wLQbAfi9agGtNj8M  108.664005   \n",
       "2  yrLNj2BzDhEQTws5  OoFYqTPyxKfASCwR  wLQbAfi9agGtNj8M  108.665033   \n",
       "3  yrLNj2BzDhEQTws5  OoFYqTPyxKfASCwR  wLQbAfi9agGtNj8M  108.665033   \n",
       "4  yrLNj2BzDhEQTws5  OoFYqTPyxKfASCwR  wLQbAfi9agGtNj8M  108.665033   \n",
       "\n",
       "         lat         user_fea5             ts  user_fea6  user_fea7  \\\n",
       "0  22.244352  W8b1IqPHxX9aGQYF  1573193245778        0.0       10.0   \n",
       "1  22.244352  W8b1IqPHxX9aGQYF  1573193245778        0.0       10.0   \n",
       "2  22.246721  W8b1IqPHxX9aGQYF  1573300837960        0.0       10.0   \n",
       "3  22.246721  W8b1IqPHxX9aGQYF  1573300837960        0.0       10.0   \n",
       "4  22.246721  W8b1IqPHxX9aGQYF  1573311745524        0.0       10.0   \n",
       "\n",
       "   user_fea8  user_fea9                                           user_tag  ID  \n",
       "0       28.0        0.0  ['1', '2', '3', '4', '5', '6', '7', '8', '9', ...   0  \n",
       "1       28.0        0.0  ['62', '63', '64', '65', '3', '66', '8', '9', ...   1  \n",
       "2       28.0        0.0  ['1', '2', '3', '4', '5', '6', '7', '8', '9', ...   2  \n",
       "3       28.0        0.0  ['62', '63', '64', '65', '3', '66', '8', '9', ...   3  \n",
       "4       28.0        0.0  ['1', '2', '3', '4', '5', '6', '7', '8', '9', ...   4  "
      ]
     },
     "execution_count": 5,
     "metadata": {},
     "output_type": "execute_result"
    }
   ],
   "source": [
    "df.head()"
   ]
  },
  {
   "cell_type": "code",
   "execution_count": 6,
   "id": "fe7a51df",
   "metadata": {
    "execution": {
     "iopub.execute_input": "2023-02-17T13:50:42.202686Z",
     "iopub.status.busy": "2023-02-17T13:50:42.202267Z",
     "iopub.status.idle": "2023-02-17T13:50:44.415577Z",
     "shell.execute_reply": "2023-02-17T13:50:44.413625Z"
    },
    "papermill": {
     "duration": 2.225934,
     "end_time": "2023-02-17T13:50:44.418285",
     "exception": false,
     "start_time": "2023-02-17T13:50:42.192351",
     "status": "completed"
    },
    "tags": []
   },
   "outputs": [
    {
     "name": "stderr",
     "output_type": "stream",
     "text": [
      "/opt/conda/lib/python3.7/site-packages/ipykernel_launcher.py:1: FutureWarning: null_counts is deprecated. Use show_counts instead\n",
      "  \"\"\"Entry point for launching an IPython kernel.\n"
     ]
    },
    {
     "name": "stdout",
     "output_type": "stream",
     "text": [
      "<class 'pandas.core.frame.DataFrame'>\n",
      "RangeIndex: 5811458 entries, 0 to 5811457\n",
      "Data columns (total 18 columns):\n",
      " #   Column     Non-Null Count    Dtype  \n",
      "---  ------     --------------    -----  \n",
      " 0   label      3530252 non-null  float64\n",
      " 1   user_id    5811458 non-null  object \n",
      " 2   item_id    5811458 non-null  object \n",
      " 3   item_fea1  5811458 non-null  int64  \n",
      " 4   user_fea1  5811458 non-null  object \n",
      " 5   user_fea2  5811458 non-null  object \n",
      " 6   user_fea3  5811458 non-null  object \n",
      " 7   user_fea4  5811458 non-null  object \n",
      " 8   lng        5811458 non-null  float64\n",
      " 9   lat        5811458 non-null  float64\n",
      " 10  user_fea5  5811458 non-null  object \n",
      " 11  ts         5811458 non-null  int64  \n",
      " 12  user_fea6  4500899 non-null  float64\n",
      " 13  user_fea7  4526101 non-null  float64\n",
      " 14  user_fea8  4595001 non-null  float64\n",
      " 15  user_fea9  3629886 non-null  float64\n",
      " 16  user_tag   5811458 non-null  object \n",
      " 17  ID         5811458 non-null  int64  \n",
      "dtypes: float64(7), int64(3), object(8)\n",
      "memory usage: 798.1+ MB\n"
     ]
    }
   ],
   "source": [
    "df.info(verbose=True,null_counts=True)"
   ]
  },
  {
   "cell_type": "code",
   "execution_count": 7,
   "id": "5c88a4ae",
   "metadata": {
    "execution": {
     "iopub.execute_input": "2023-02-17T13:50:44.438451Z",
     "iopub.status.busy": "2023-02-17T13:50:44.438053Z",
     "iopub.status.idle": "2023-02-17T13:50:44.444716Z",
     "shell.execute_reply": "2023-02-17T13:50:44.443613Z"
    },
    "papermill": {
     "duration": 0.020123,
     "end_time": "2023-02-17T13:50:44.447263",
     "exception": false,
     "start_time": "2023-02-17T13:50:44.427140",
     "status": "completed"
    },
    "tags": []
   },
   "outputs": [],
   "source": [
    "num_cols  =  [f'user_fea{i}' for i in range(6,9)] \n",
    "cate_cols = ['user_id','item_id']+ [f'user_fea{i}' for i in range(1,6)] + ['item_fea1']+['user_fea9']"
   ]
  },
  {
   "cell_type": "code",
   "execution_count": 8,
   "id": "e92d0c21",
   "metadata": {
    "execution": {
     "iopub.execute_input": "2023-02-17T13:50:44.466664Z",
     "iopub.status.busy": "2023-02-17T13:50:44.466265Z",
     "iopub.status.idle": "2023-02-17T13:50:44.474168Z",
     "shell.execute_reply": "2023-02-17T13:50:44.472863Z"
    },
    "papermill": {
     "duration": 0.020629,
     "end_time": "2023-02-17T13:50:44.476631",
     "exception": false,
     "start_time": "2023-02-17T13:50:44.456002",
     "status": "completed"
    },
    "tags": []
   },
   "outputs": [
    {
     "data": {
      "text/plain": [
       "['user_fea6', 'user_fea7', 'user_fea8']"
      ]
     },
     "execution_count": 8,
     "metadata": {},
     "output_type": "execute_result"
    }
   ],
   "source": [
    "num_cols"
   ]
  },
  {
   "cell_type": "code",
   "execution_count": 9,
   "id": "ff253c10",
   "metadata": {
    "execution": {
     "iopub.execute_input": "2023-02-17T13:50:44.496774Z",
     "iopub.status.busy": "2023-02-17T13:50:44.496331Z",
     "iopub.status.idle": "2023-02-17T13:50:44.502647Z",
     "shell.execute_reply": "2023-02-17T13:50:44.501390Z"
    },
    "papermill": {
     "duration": 0.019441,
     "end_time": "2023-02-17T13:50:44.505572",
     "exception": false,
     "start_time": "2023-02-17T13:50:44.486131",
     "status": "completed"
    },
    "tags": []
   },
   "outputs": [
    {
     "name": "stdout",
     "output_type": "stream",
     "text": [
      "['user_id', 'item_id', 'user_fea1', 'user_fea2', 'user_fea3', 'user_fea4', 'user_fea5', 'item_fea1', 'user_fea9']\n"
     ]
    }
   ],
   "source": [
    "print(cate_cols)"
   ]
  },
  {
   "cell_type": "code",
   "execution_count": 10,
   "id": "848e96e8",
   "metadata": {
    "execution": {
     "iopub.execute_input": "2023-02-17T13:50:44.526078Z",
     "iopub.status.busy": "2023-02-17T13:50:44.525634Z",
     "iopub.status.idle": "2023-02-17T13:51:38.241994Z",
     "shell.execute_reply": "2023-02-17T13:51:38.240631Z"
    },
    "papermill": {
     "duration": 53.729199,
     "end_time": "2023-02-17T13:51:38.244671",
     "exception": false,
     "start_time": "2023-02-17T13:50:44.515472",
     "status": "completed"
    },
    "tags": []
   },
   "outputs": [
    {
     "data": {
      "application/vnd.jupyter.widget-view+json": {
       "model_id": "199ed9286f8d4e6fbdd3a6c53d63b6ae",
       "version_major": 2,
       "version_minor": 0
      },
      "text/plain": [
       "  0%|          | 0/3 [00:00<?, ?it/s]"
      ]
     },
     "metadata": {},
     "output_type": "display_data"
    },
    {
     "name": "stderr",
     "output_type": "stream",
     "text": [
      "/opt/conda/lib/python3.7/site-packages/seaborn/distributions.py:2619: FutureWarning: `distplot` is a deprecated function and will be removed in a future version. Please adapt your code to use either `displot` (a figure-level function with similar flexibility) or `histplot` (an axes-level function for histograms).\n",
      "  warnings.warn(msg, FutureWarning)\n",
      "/opt/conda/lib/python3.7/site-packages/seaborn/distributions.py:2619: FutureWarning: `distplot` is a deprecated function and will be removed in a future version. Please adapt your code to use either `displot` (a figure-level function with similar flexibility) or `histplot` (an axes-level function for histograms).\n",
      "  warnings.warn(msg, FutureWarning)\n",
      "/opt/conda/lib/python3.7/site-packages/seaborn/distributions.py:2619: FutureWarning: `distplot` is a deprecated function and will be removed in a future version. Please adapt your code to use either `displot` (a figure-level function with similar flexibility) or `histplot` (an axes-level function for histograms).\n",
      "  warnings.warn(msg, FutureWarning)\n"
     ]
    },
    {
     "data": {
      "image/png": "[encoded data removed]",
      "text/plain": [
       "<Figure size 900x600 with 1 Axes>"
      ]
     },
     "metadata": {
      "needs_background": "light"
     },
     "output_type": "display_data"
    },
    {
     "data": {
      "image/png": "[encoded data removed]",
      "text/plain": [
       "<Figure size 900x600 with 1 Axes>"
      ]
     },
     "metadata": {
      "needs_background": "light"
     },
     "output_type": "display_data"
    },
    {
     "data": {
      "image/png": "[encoded data removed]",
      "text/plain": [
       "<Figure size 900x600 with 1 Axes>"
      ]
     },
     "metadata": {
      "needs_background": "light"
     },
     "output_type": "display_data"
    }
   ],
   "source": [
    "# 连续特征\n",
    "for col in tqdm(num_cols):\n",
    "    plt.figure(dpi=150)\n",
    "    sns.distplot(df[col])"
   ]
  },
  {
   "cell_type": "code",
   "execution_count": 11,
   "id": "805dc684",
   "metadata": {
    "execution": {
     "iopub.execute_input": "2023-02-17T13:51:38.268619Z",
     "iopub.status.busy": "2023-02-17T13:51:38.268219Z",
     "iopub.status.idle": "2023-02-17T13:51:38.938755Z",
     "shell.execute_reply": "2023-02-17T13:51:38.937584Z"
    },
    "papermill": {
     "duration": 0.685575,
     "end_time": "2023-02-17T13:51:38.941742",
     "exception": false,
     "start_time": "2023-02-17T13:51:38.256167",
     "status": "completed"
    },
    "tags": []
   },
   "outputs": [
    {
     "data": {
      "application/vnd.jupyter.widget-view+json": {
       "model_id": "266fd43616604a47859d1995fd3cf266",
       "version_major": 2,
       "version_minor": 0
      },
      "text/plain": [
       "  0%|          | 0/3 [00:00<?, ?it/s]"
      ]
     },
     "metadata": {},
     "output_type": "display_data"
    }
   ],
   "source": [
    "# 原生数据编码\n",
    "for col in tqdm(num_cols):\n",
    "    df[col] = df[col].fillna(0)\n",
    "    # min-max\n",
    "#     df[col] = (df[col] - df[col].min()) / (df[col].max() - df[col].min())\n",
    "    # z-score\n",
    "    df[col] = (df[col] - df[col].mean()) / df[col].std()"
   ]
  },
  {
   "cell_type": "code",
   "execution_count": 12,
   "id": "b350489b",
   "metadata": {
    "execution": {
     "iopub.execute_input": "2023-02-17T13:51:38.966873Z",
     "iopub.status.busy": "2023-02-17T13:51:38.966405Z",
     "iopub.status.idle": "2023-02-17T13:51:38.971665Z",
     "shell.execute_reply": "2023-02-17T13:51:38.970542Z"
    },
    "papermill": {
     "duration": 0.021067,
     "end_time": "2023-02-17T13:51:38.974172",
     "exception": false,
     "start_time": "2023-02-17T13:51:38.953105",
     "status": "completed"
    },
    "tags": []
   },
   "outputs": [],
   "source": [
    "# sklearn 数据编码\n",
    "# scaler = StandardScaler()\n",
    "# scaler = MinMaxScaler()\n",
    "# df[num_cols] = scaler.fit_transform(df[num_cols])\n",
    "\n",
    "# train_df[num_cols] = scaler.fit(train_df[num_cols])\n",
    "\n",
    "# train_df[num_cols] = scaler.transform(train_df[num_cols])\n",
    "# test_df[num_cols] = scaler.transform(test_df[num_cols])"
   ]
  },
  {
   "cell_type": "code",
   "execution_count": 13,
   "id": "3bc675c5",
   "metadata": {
    "execution": {
     "iopub.execute_input": "2023-02-17T13:51:38.998536Z",
     "iopub.status.busy": "2023-02-17T13:51:38.998083Z",
     "iopub.status.idle": "2023-02-17T13:51:39.003322Z",
     "shell.execute_reply": "2023-02-17T13:51:39.001931Z"
    },
    "papermill": {
     "duration": 0.020299,
     "end_time": "2023-02-17T13:51:39.005911",
     "exception": false,
     "start_time": "2023-02-17T13:51:38.985612",
     "status": "completed"
    },
    "tags": []
   },
   "outputs": [],
   "source": [
    "# 离散特征\n",
    "# for col in tqdm(['user_fea1', 'user_fea2', 'user_fea3', 'user_fea4', 'user_fea5', 'item_fea1', 'user_fea9']):\n",
    "#     plt.figure(dpi=150)\n",
    "#     sns.countplot(df[col])"
   ]
  },
  {
   "cell_type": "code",
   "execution_count": 14,
   "id": "36671b76",
   "metadata": {
    "execution": {
     "iopub.execute_input": "2023-02-17T13:51:39.029450Z",
     "iopub.status.busy": "2023-02-17T13:51:39.029030Z",
     "iopub.status.idle": "2023-02-17T13:51:39.563986Z",
     "shell.execute_reply": "2023-02-17T13:51:39.562761Z"
    },
    "papermill": {
     "duration": 0.549732,
     "end_time": "2023-02-17T13:51:39.566442",
     "exception": false,
     "start_time": "2023-02-17T13:51:39.016710",
     "status": "completed"
    },
    "tags": []
   },
   "outputs": [
    {
     "name": "stderr",
     "output_type": "stream",
     "text": [
      "/opt/conda/lib/python3.7/site-packages/seaborn/_decorators.py:43: FutureWarning: Pass the following variable as a keyword arg: x. From version 0.12, the only valid positional argument will be `data`, and passing other arguments without an explicit keyword will result in an error or misinterpretation.\n",
      "  FutureWarning\n"
     ]
    },
    {
     "data": {
      "text/plain": [
       "<AxesSubplot:xlabel='label', ylabel='count'>"
      ]
     },
     "execution_count": 14,
     "metadata": {},
     "output_type": "execute_result"
    },
    {
     "data": {
      "image/png": "[encoded data removed]",
      "text/plain": [
       "<Figure size 900x600 with 1 Axes>"
      ]
     },
     "metadata": {
      "needs_background": "light"
     },
     "output_type": "display_data"
    }
   ],
   "source": [
    "plt.figure(dpi=150)\n",
    "sns.countplot(train_df['label'])"
   ]
  },
  {
   "cell_type": "code",
   "execution_count": 15,
   "id": "1f26d1ca",
   "metadata": {
    "execution": {
     "iopub.execute_input": "2023-02-17T13:51:39.593933Z",
     "iopub.status.busy": "2023-02-17T13:51:39.591503Z",
     "iopub.status.idle": "2023-02-17T13:52:01.730172Z",
     "shell.execute_reply": "2023-02-17T13:52:01.728725Z"
    },
    "papermill": {
     "duration": 22.155105,
     "end_time": "2023-02-17T13:52:01.732988",
     "exception": false,
     "start_time": "2023-02-17T13:51:39.577883",
     "status": "completed"
    },
    "tags": []
   },
   "outputs": [
    {
     "data": {
      "application/vnd.jupyter.widget-view+json": {
       "model_id": "22e4a5c92db44574807070bdbb5ee04f",
       "version_major": 2,
       "version_minor": 0
      },
      "text/plain": [
       "  0%|          | 0/9 [00:00<?, ?it/s]"
      ]
     },
     "metadata": {},
     "output_type": "display_data"
    }
   ],
   "source": [
    "# 原生离散特征编码\n",
    "# 操作df一列：\n",
    "# 1.map方法：输入一个dict(k:v对)\n",
    "# 2.apply方法：输入一个func,这个func的输入是该列特征的一个值，返回结果是修改后的值\n",
    "for col in tqdm(cate_cols):\n",
    "    df[col] = df[col].fillna('-1')\n",
    "    map_dict = dict(zip(df[col].unique(), range(df[col].nunique())))\n",
    "    \n",
    "    df[col] = df[col].map(map_dict)\n",
    "    df[f'{col}_count'] = df[col].map(df[col].value_counts())"
   ]
  },
  {
   "cell_type": "code",
   "execution_count": 16,
   "id": "62e082dc",
   "metadata": {
    "execution": {
     "iopub.execute_input": "2023-02-17T13:52:01.759224Z",
     "iopub.status.busy": "2023-02-17T13:52:01.758755Z",
     "iopub.status.idle": "2023-02-17T13:52:02.333932Z",
     "shell.execute_reply": "2023-02-17T13:52:02.332709Z"
    },
    "papermill": {
     "duration": 0.591565,
     "end_time": "2023-02-17T13:52:02.336613",
     "exception": false,
     "start_time": "2023-02-17T13:52:01.745048",
     "status": "completed"
    },
    "tags": []
   },
   "outputs": [],
   "source": [
    "# 需要维护一个map_dict来定义映射的方法\n",
    "map_dict = dict( zip( train_df['user_fea1'].unique(), range(train_df['user_fea1'].nunique()) ) )"
   ]
  },
  {
   "cell_type": "code",
   "execution_count": 17,
   "id": "30e30d53",
   "metadata": {
    "execution": {
     "iopub.execute_input": "2023-02-17T13:52:02.361379Z",
     "iopub.status.busy": "2023-02-17T13:52:02.360949Z",
     "iopub.status.idle": "2023-02-17T13:52:02.366408Z",
     "shell.execute_reply": "2023-02-17T13:52:02.365168Z"
    },
    "papermill": {
     "duration": 0.020449,
     "end_time": "2023-02-17T13:52:02.368767",
     "exception": false,
     "start_time": "2023-02-17T13:52:02.348318",
     "status": "completed"
    },
    "tags": []
   },
   "outputs": [],
   "source": [
    "def func1(x):\n",
    "    return '666_'+x"
   ]
  },
  {
   "cell_type": "code",
   "execution_count": 18,
   "id": "80f1198e",
   "metadata": {
    "execution": {
     "iopub.execute_input": "2023-02-17T13:52:02.393881Z",
     "iopub.status.busy": "2023-02-17T13:52:02.393463Z",
     "iopub.status.idle": "2023-02-17T13:52:03.271725Z",
     "shell.execute_reply": "2023-02-17T13:52:03.270544Z"
    },
    "papermill": {
     "duration": 0.893638,
     "end_time": "2023-02-17T13:52:03.274352",
     "exception": false,
     "start_time": "2023-02-17T13:52:02.380714",
     "status": "completed"
    },
    "tags": []
   },
   "outputs": [
    {
     "data": {
      "text/plain": [
       "0          666_KmsYcoDyQi7zprXT\n",
       "1          666_KmsYcoDyQi7zprXT\n",
       "2          666_KmsYcoDyQi7zprXT\n",
       "3          666_KmsYcoDyQi7zprXT\n",
       "4          666_KmsYcoDyQi7zprXT\n",
       "                   ...         \n",
       "3530247    666_J2lywfeYA6Cov3mu\n",
       "3530248    666_J2lywfeYA6Cov3mu\n",
       "3530249    666_J2lywfeYA6Cov3mu\n",
       "3530250    666_J2lywfeYA6Cov3mu\n",
       "3530251    666_J2lywfeYA6Cov3mu\n",
       "Name: user_fea1, Length: 3530252, dtype: object"
      ]
     },
     "execution_count": 18,
     "metadata": {},
     "output_type": "execute_result"
    }
   ],
   "source": [
    "train_df['user_fea1'].apply(func1)"
   ]
  },
  {
   "cell_type": "code",
   "execution_count": 19,
   "id": "c3059d1f",
   "metadata": {
    "execution": {
     "iopub.execute_input": "2023-02-17T13:52:03.299385Z",
     "iopub.status.busy": "2023-02-17T13:52:03.298970Z",
     "iopub.status.idle": "2023-02-17T13:52:03.304310Z",
     "shell.execute_reply": "2023-02-17T13:52:03.303166Z"
    },
    "papermill": {
     "duration": 0.020788,
     "end_time": "2023-02-17T13:52:03.306809",
     "exception": false,
     "start_time": "2023-02-17T13:52:03.286021",
     "status": "completed"
    },
    "tags": []
   },
   "outputs": [],
   "source": [
    "# sklearn 离散特征编码\n",
    "# for col in tqdm(cate_cols):\n",
    "#     scale = LabelEncoder()\n",
    "#     scale.fit(df[col])\n",
    "#     df[col] = scale.transform(df[col])"
   ]
  },
  {
   "cell_type": "code",
   "execution_count": 20,
   "id": "ff0212ff",
   "metadata": {
    "execution": {
     "iopub.execute_input": "2023-02-17T13:52:03.331994Z",
     "iopub.status.busy": "2023-02-17T13:52:03.331553Z",
     "iopub.status.idle": "2023-02-17T13:52:05.881343Z",
     "shell.execute_reply": "2023-02-17T13:52:05.880408Z"
    },
    "papermill": {
     "duration": 2.565518,
     "end_time": "2023-02-17T13:52:05.883978",
     "exception": false,
     "start_time": "2023-02-17T13:52:03.318460",
     "status": "completed"
    },
    "tags": []
   },
   "outputs": [],
   "source": [
    "train_df = df[df['label'].notna()].reset_index(drop=True)\n",
    "test_df = df[df['label'].isna()].reset_index(drop=True)"
   ]
  },
  {
   "cell_type": "code",
   "execution_count": 21,
   "id": "60e5fb72",
   "metadata": {
    "execution": {
     "iopub.execute_input": "2023-02-17T13:52:05.910145Z",
     "iopub.status.busy": "2023-02-17T13:52:05.909477Z",
     "iopub.status.idle": "2023-02-17T13:52:05.915553Z",
     "shell.execute_reply": "2023-02-17T13:52:05.914419Z"
    },
    "papermill": {
     "duration": 0.022021,
     "end_time": "2023-02-17T13:52:05.917914",
     "exception": false,
     "start_time": "2023-02-17T13:52:05.895893",
     "status": "completed"
    },
    "tags": []
   },
   "outputs": [
    {
     "data": {
      "text/plain": [
       "((3530252, 27), (2281206, 27))"
      ]
     },
     "execution_count": 21,
     "metadata": {},
     "output_type": "execute_result"
    }
   ],
   "source": [
    "train_df.shape,test_df.shape"
   ]
  },
  {
   "cell_type": "code",
   "execution_count": 22,
   "id": "fad2f45d",
   "metadata": {
    "execution": {
     "iopub.execute_input": "2023-02-17T13:52:05.944360Z",
     "iopub.status.busy": "2023-02-17T13:52:05.943917Z",
     "iopub.status.idle": "2023-02-17T13:52:05.950456Z",
     "shell.execute_reply": "2023-02-17T13:52:05.949540Z"
    },
    "papermill": {
     "duration": 0.023013,
     "end_time": "2023-02-17T13:52:05.953458",
     "exception": false,
     "start_time": "2023-02-17T13:52:05.930445",
     "status": "completed"
    },
    "tags": []
   },
   "outputs": [
    {
     "name": "stdout",
     "output_type": "stream",
     "text": [
      "21 ['user_id', 'item_id', 'item_fea1', 'user_fea1', 'user_fea2', 'user_fea3', 'user_fea4', 'user_fea5', 'user_fea6', 'user_fea7', 'user_fea8', 'user_fea9', 'user_id_count', 'item_id_count', 'user_fea1_count', 'user_fea2_count', 'user_fea3_count', 'user_fea4_count', 'user_fea5_count', 'item_fea1_count', 'user_fea9_count']\n"
     ]
    }
   ],
   "source": [
    "drop_feature = ['ID','label','lng','lat','ts','user_tag']\n",
    "feature = [x for x in train_df.columns if x not in drop_feature]\n",
    "print(len(feature),feature)"
   ]
  },
  {
   "cell_type": "markdown",
   "id": "69cb583f",
   "metadata": {
    "papermill": {
     "duration": 0.011726,
     "end_time": "2023-02-17T13:52:05.977470",
     "exception": false,
     "start_time": "2023-02-17T13:52:05.965744",
     "status": "completed"
    },
    "tags": []
   },
   "source": [
    "# 2.模型调用"
   ]
  },
  {
   "cell_type": "code",
   "execution_count": 23,
   "id": "645a2438",
   "metadata": {
    "execution": {
     "iopub.execute_input": "2023-02-17T13:52:06.005156Z",
     "iopub.status.busy": "2023-02-17T13:52:06.004346Z",
     "iopub.status.idle": "2023-02-17T13:52:06.010817Z",
     "shell.execute_reply": "2023-02-17T13:52:06.010000Z"
    },
    "papermill": {
     "duration": 0.022798,
     "end_time": "2023-02-17T13:52:06.012970",
     "exception": false,
     "start_time": "2023-02-17T13:52:05.990172",
     "status": "completed"
    },
    "tags": []
   },
   "outputs": [
    {
     "data": {
      "text/plain": [
       "'\\n# 实例化模型\\nmodel = XXX(**params)\\n\\n# 拟合模型\\nmodel.fit(X_train, y_train)\\n\\n# 模型预测 类别\\nmodel.predict(X_test)\\n\\n# 输出概率(分类任务)\\nmodel.predict_proba(X_test)\\n\\n# 获得这个模型的参数\\nmodel.get_params()\\n'"
      ]
     },
     "execution_count": 23,
     "metadata": {},
     "output_type": "execute_result"
    }
   ],
   "source": [
    "### sklearn一般的范式\n",
    "'''\n",
    "# 实例化模型\n",
    "model = XXX(**params)\n",
    "\n",
    "# 拟合模型\n",
    "model.fit(X_train, y_train)\n",
    "\n",
    "# 模型预测 类别\n",
    "model.predict(X_test)\n",
    "\n",
    "# 输出概率(分类任务)\n",
    "model.predict_proba(X_test)\n",
    "\n",
    "# 获得这个模型的参数\n",
    "model.get_params()\n",
    "'''"
   ]
  },
  {
   "cell_type": "code",
   "execution_count": 24,
   "id": "7dac7cbf",
   "metadata": {
    "execution": {
     "iopub.execute_input": "2023-02-17T13:52:06.039247Z",
     "iopub.status.busy": "2023-02-17T13:52:06.038453Z",
     "iopub.status.idle": "2023-02-17T13:52:07.904254Z",
     "shell.execute_reply": "2023-02-17T13:52:07.902977Z"
    },
    "papermill": {
     "duration": 1.882039,
     "end_time": "2023-02-17T13:52:07.907155",
     "exception": false,
     "start_time": "2023-02-17T13:52:06.025116",
     "status": "completed"
    },
    "tags": []
   },
   "outputs": [],
   "source": [
    "from sklearn.model_selection import train_test_split\n",
    "X_train, X_valid, y_train, y_valid = train_test_split(train_df[feature], train_df['label'], random_state=666)"
   ]
  },
  {
   "cell_type": "code",
   "execution_count": 25,
   "id": "ab431ac0",
   "metadata": {
    "execution": {
     "iopub.execute_input": "2023-02-17T13:52:07.934051Z",
     "iopub.status.busy": "2023-02-17T13:52:07.933572Z",
     "iopub.status.idle": "2023-02-17T13:52:08.173693Z",
     "shell.execute_reply": "2023-02-17T13:52:08.172786Z"
    },
    "papermill": {
     "duration": 0.257164,
     "end_time": "2023-02-17T13:52:08.176363",
     "exception": false,
     "start_time": "2023-02-17T13:52:07.919199",
     "status": "completed"
    },
    "tags": []
   },
   "outputs": [],
   "source": [
    "from sklearn.linear_model import LinearRegression\n",
    "from sklearn.linear_model import LogisticRegression\n",
    "from sklearn.naive_bayes import BernoulliNB, MultinomialNB, GaussianNB\n",
    "from sklearn.svm import SVC\n",
    "from sklearn.neighbors import KNeighborsClassifier\n",
    "from sklearn.neural_network import MLPClassifier\n",
    "from sklearn.ensemble import AdaBoostClassifier, RandomForestClassifier\n"
   ]
  },
  {
   "cell_type": "code",
   "execution_count": 26,
   "id": "bd14ec91",
   "metadata": {
    "execution": {
     "iopub.execute_input": "2023-02-17T13:52:08.202619Z",
     "iopub.status.busy": "2023-02-17T13:52:08.202220Z",
     "iopub.status.idle": "2023-02-17T13:59:20.480763Z",
     "shell.execute_reply": "2023-02-17T13:59:20.479609Z"
    },
    "papermill": {
     "duration": 432.294768,
     "end_time": "2023-02-17T13:59:20.483775",
     "exception": false,
     "start_time": "2023-02-17T13:52:08.189007",
     "status": "completed"
    },
    "tags": []
   },
   "outputs": [
    {
     "name": "stdout",
     "output_type": "stream",
     "text": [
      "AdaBoostClassifier() AUC :0.8026027777302978\n",
      "AdaBoostClassifier() LogLoss :0.6741827729451624\n"
     ]
    }
   ],
   "source": [
    "from sklearn.linear_model import LinearRegression\n",
    "from sklearn.linear_model import LogisticRegression\n",
    "from sklearn.naive_bayes import BernoulliNB, MultinomialNB, GaussianNB\n",
    "from sklearn.svm import SVC\n",
    "from sklearn.neighbors import KNeighborsClassifier\n",
    "from sklearn.neural_network import MLPClassifier\n",
    "from sklearn.ensemble import AdaBoostClassifier, RandomForestClassifier\n",
    "\n",
    "\n",
    "model = AdaBoostClassifier()\n",
    "\n",
    "model.fit(X_train, y_train)\n",
    "\n",
    "y_valid_pre = model.predict_proba(X_valid)[:,1] \n",
    "# 二分类任务输出的维度是：nx2\n",
    "\n",
    "print(f'{str(model)} AUC :{roc_auc_score(y_valid, y_valid_pre)}')\n",
    "\n",
    "print(f'{str(model)} LogLoss :{log_loss(y_valid, y_valid_pre)}')\n",
    "\n",
    "y_pre = model.predict_proba(test_df[feature])[:,1]"
   ]
  },
  {
   "cell_type": "code",
   "execution_count": 27,
   "id": "d8610de3",
   "metadata": {
    "execution": {
     "iopub.execute_input": "2023-02-17T13:59:20.511509Z",
     "iopub.status.busy": "2023-02-17T13:59:20.510273Z",
     "iopub.status.idle": "2023-02-17T13:59:25.868614Z",
     "shell.execute_reply": "2023-02-17T13:59:25.867548Z"
    },
    "papermill": {
     "duration": 5.375176,
     "end_time": "2023-02-17T13:59:25.871390",
     "exception": false,
     "start_time": "2023-02-17T13:59:20.496214",
     "status": "completed"
    },
    "tags": []
   },
   "outputs": [],
   "source": [
    "sklearn_sub_df = pd.DataFrame()\n",
    "sklearn_sub_df['ID'] = test_df['ID']\n",
    "sklearn_sub_df['label'] = y_pre\n",
    "sklearn_sub_df.to_csv('/kaggle/working/sklearn_baseline.csv',index=False)"
   ]
  },
  {
   "cell_type": "markdown",
   "id": "d47b9480",
   "metadata": {
    "papermill": {
     "duration": 0.013223,
     "end_time": "2023-02-17T13:59:25.899357",
     "exception": false,
     "start_time": "2023-02-17T13:59:25.886134",
     "status": "completed"
    },
    "tags": []
   },
   "source": [
    "# 3.模型验证"
   ]
  },
  {
   "cell_type": "code",
   "execution_count": 28,
   "id": "96d8d67a",
   "metadata": {
    "execution": {
     "iopub.execute_input": "2023-02-17T13:59:25.927720Z",
     "iopub.status.busy": "2023-02-17T13:59:25.927224Z",
     "iopub.status.idle": "2023-02-17T15:44:46.023483Z",
     "shell.execute_reply": "2023-02-17T15:44:46.022370Z"
    },
    "papermill": {
     "duration": 6320.113843,
     "end_time": "2023-02-17T15:44:46.026407",
     "exception": false,
     "start_time": "2023-02-17T13:59:25.912564",
     "status": "completed"
    },
    "tags": []
   },
   "outputs": [
    {
     "name": "stderr",
     "output_type": "stream",
     "text": [
      "/opt/conda/lib/python3.7/site-packages/lightgbm/engine.py:181: UserWarning: 'early_stopping_rounds' argument is deprecated and will be removed in a future release of LightGBM. Pass 'early_stopping()' callback via 'callbacks' argument instead.\n",
      "  _log_warning(\"'early_stopping_rounds' argument is deprecated and will be removed in a future release of LightGBM. \"\n",
      "/opt/conda/lib/python3.7/site-packages/lightgbm/engine.py:239: UserWarning: 'verbose_eval' argument is deprecated and will be removed in a future release of LightGBM. Pass 'log_evaluation()' callback via 'callbacks' argument instead.\n",
      "  _log_warning(\"'verbose_eval' argument is deprecated and will be removed in a future release of LightGBM. \"\n"
     ]
    },
    {
     "name": "stdout",
     "output_type": "stream",
     "text": [
      "Training until validation scores don't improve for 50 rounds\n",
      "[50]\ttraining's binary_logloss: 0.348639\ttraining's auc: 0.838277\tvalid_1's binary_logloss: 0.349025\tvalid_1's auc: 0.837033\n",
      "[100]\ttraining's binary_logloss: 0.331203\ttraining's auc: 0.860295\tvalid_1's binary_logloss: 0.332585\tvalid_1's auc: 0.857857\n",
      "[150]\ttraining's binary_logloss: 0.321047\ttraining's auc: 0.87198\tvalid_1's binary_logloss: 0.32339\tvalid_1's auc: 0.868531\n",
      "[200]\ttraining's binary_logloss: 0.314268\ttraining's auc: 0.879236\tvalid_1's binary_logloss: 0.317532\tvalid_1's auc: 0.874852\n",
      "[250]\ttraining's binary_logloss: 0.308775\ttraining's auc: 0.884856\tvalid_1's binary_logloss: 0.313005\tvalid_1's auc: 0.879511\n",
      "[300]\ttraining's binary_logloss: 0.303744\ttraining's auc: 0.88972\tvalid_1's binary_logloss: 0.308831\tvalid_1's auc: 0.883609\n",
      "[350]\ttraining's binary_logloss: 0.299311\ttraining's auc: 0.893728\tvalid_1's binary_logloss: 0.305362\tvalid_1's auc: 0.886766\n",
      "[400]\ttraining's binary_logloss: 0.295703\ttraining's auc: 0.896929\tvalid_1's binary_logloss: 0.302656\tvalid_1's auc: 0.889173\n",
      "[450]\ttraining's binary_logloss: 0.292424\ttraining's auc: 0.899703\tvalid_1's binary_logloss: 0.300191\tvalid_1's auc: 0.89122\n",
      "[500]\ttraining's binary_logloss: 0.28952\ttraining's auc: 0.902117\tvalid_1's binary_logloss: 0.298119\tvalid_1's auc: 0.89291\n",
      "[550]\ttraining's binary_logloss: 0.286771\ttraining's auc: 0.904383\tvalid_1's binary_logloss: 0.296302\tvalid_1's auc: 0.894365\n",
      "[600]\ttraining's binary_logloss: 0.28409\ttraining's auc: 0.906522\tvalid_1's binary_logloss: 0.294424\tvalid_1's auc: 0.89585\n",
      "[650]\ttraining's binary_logloss: 0.281672\ttraining's auc: 0.908368\tvalid_1's binary_logloss: 0.29282\tvalid_1's auc: 0.897086\n",
      "[700]\ttraining's binary_logloss: 0.279258\ttraining's auc: 0.910241\tvalid_1's binary_logloss: 0.291237\tvalid_1's auc: 0.898299\n",
      "[750]\ttraining's binary_logloss: 0.277192\ttraining's auc: 0.911793\tvalid_1's binary_logloss: 0.289935\tvalid_1's auc: 0.899257\n",
      "[800]\ttraining's binary_logloss: 0.275392\ttraining's auc: 0.913147\tvalid_1's binary_logloss: 0.288965\tvalid_1's auc: 0.899951\n",
      "[850]\ttraining's binary_logloss: 0.273481\ttraining's auc: 0.91459\tvalid_1's binary_logloss: 0.287846\tvalid_1's auc: 0.90078\n",
      "[900]\ttraining's binary_logloss: 0.271783\ttraining's auc: 0.91583\tvalid_1's binary_logloss: 0.286852\tvalid_1's auc: 0.901497\n",
      "[950]\ttraining's binary_logloss: 0.270197\ttraining's auc: 0.917011\tvalid_1's binary_logloss: 0.286121\tvalid_1's auc: 0.901993\n",
      "[1000]\ttraining's binary_logloss: 0.268514\ttraining's auc: 0.91824\tvalid_1's binary_logloss: 0.285189\tvalid_1's auc: 0.902661\n",
      "[1050]\ttraining's binary_logloss: 0.26687\ttraining's auc: 0.919421\tvalid_1's binary_logloss: 0.284351\tvalid_1's auc: 0.903233\n",
      "[1100]\ttraining's binary_logloss: 0.265424\ttraining's auc: 0.920474\tvalid_1's binary_logloss: 0.283754\tvalid_1's auc: 0.90364\n",
      "[1150]\ttraining's binary_logloss: 0.264032\ttraining's auc: 0.92148\tvalid_1's binary_logloss: 0.283197\tvalid_1's auc: 0.904012\n",
      "[1200]\ttraining's binary_logloss: 0.262677\ttraining's auc: 0.922438\tvalid_1's binary_logloss: 0.282607\tvalid_1's auc: 0.904404\n",
      "[1250]\ttraining's binary_logloss: 0.261337\ttraining's auc: 0.923339\tvalid_1's binary_logloss: 0.281997\tvalid_1's auc: 0.904799\n",
      "[1300]\ttraining's binary_logloss: 0.260056\ttraining's auc: 0.924185\tvalid_1's binary_logloss: 0.28141\tvalid_1's auc: 0.905177\n",
      "[1350]\ttraining's binary_logloss: 0.258891\ttraining's auc: 0.925023\tvalid_1's binary_logloss: 0.281027\tvalid_1's auc: 0.905444\n",
      "[1400]\ttraining's binary_logloss: 0.25766\ttraining's auc: 0.925887\tvalid_1's binary_logloss: 0.280575\tvalid_1's auc: 0.905756\n",
      "[1450]\ttraining's binary_logloss: 0.25641\ttraining's auc: 0.926731\tvalid_1's binary_logloss: 0.280063\tvalid_1's auc: 0.906108\n",
      "[1500]\ttraining's binary_logloss: 0.255252\ttraining's auc: 0.92753\tvalid_1's binary_logloss: 0.279577\tvalid_1's auc: 0.906444\n",
      "[1550]\ttraining's binary_logloss: 0.254145\ttraining's auc: 0.928267\tvalid_1's binary_logloss: 0.27922\tvalid_1's auc: 0.906664\n",
      "[1600]\ttraining's binary_logloss: 0.253116\ttraining's auc: 0.928958\tvalid_1's binary_logloss: 0.278901\tvalid_1's auc: 0.906858\n",
      "[1650]\ttraining's binary_logloss: 0.252092\ttraining's auc: 0.929664\tvalid_1's binary_logloss: 0.278574\tvalid_1's auc: 0.907068\n",
      "[1700]\ttraining's binary_logloss: 0.25107\ttraining's auc: 0.930342\tvalid_1's binary_logloss: 0.278281\tvalid_1's auc: 0.907231\n",
      "[1750]\ttraining's binary_logloss: 0.25013\ttraining's auc: 0.930977\tvalid_1's binary_logloss: 0.278028\tvalid_1's auc: 0.90738\n",
      "[1800]\ttraining's binary_logloss: 0.249103\ttraining's auc: 0.931652\tvalid_1's binary_logloss: 0.277704\tvalid_1's auc: 0.907583\n",
      "[1850]\ttraining's binary_logloss: 0.248122\ttraining's auc: 0.932303\tvalid_1's binary_logloss: 0.277475\tvalid_1's auc: 0.907719\n",
      "[1900]\ttraining's binary_logloss: 0.247147\ttraining's auc: 0.932969\tvalid_1's binary_logloss: 0.277326\tvalid_1's auc: 0.907792\n",
      "[1950]\ttraining's binary_logloss: 0.246145\ttraining's auc: 0.933627\tvalid_1's binary_logloss: 0.276988\tvalid_1's auc: 0.908025\n",
      "[2000]\ttraining's binary_logloss: 0.245201\ttraining's auc: 0.934252\tvalid_1's binary_logloss: 0.276758\tvalid_1's auc: 0.908173\n",
      "Did not meet early stopping. Best iteration is:\n",
      "[2000]\ttraining's binary_logloss: 0.245201\ttraining's auc: 0.934252\tvalid_1's binary_logloss: 0.276758\tvalid_1's auc: 0.908173\n",
      "Training until validation scores don't improve for 50 rounds\n",
      "[50]\ttraining's binary_logloss: 0.347766\ttraining's auc: 0.839288\tvalid_1's binary_logloss: 0.349821\tvalid_1's auc: 0.836387\n",
      "[100]\ttraining's binary_logloss: 0.33103\ttraining's auc: 0.860371\tvalid_1's binary_logloss: 0.333837\tvalid_1's auc: 0.856831\n",
      "[150]\ttraining's binary_logloss: 0.320856\ttraining's auc: 0.872087\tvalid_1's binary_logloss: 0.324426\tvalid_1's auc: 0.867789\n",
      "[200]\ttraining's binary_logloss: 0.313683\ttraining's auc: 0.879708\tvalid_1's binary_logloss: 0.31818\tvalid_1's auc: 0.874529\n",
      "[250]\ttraining's binary_logloss: 0.307712\ttraining's auc: 0.885734\tvalid_1's binary_logloss: 0.313075\tvalid_1's auc: 0.879781\n",
      "[300]\ttraining's binary_logloss: 0.30299\ttraining's auc: 0.890239\tvalid_1's binary_logloss: 0.309194\tvalid_1's auc: 0.883527\n",
      "[350]\ttraining's binary_logloss: 0.298679\ttraining's auc: 0.894108\tvalid_1's binary_logloss: 0.305718\tvalid_1's auc: 0.886666\n",
      "[400]\ttraining's binary_logloss: 0.295388\ttraining's auc: 0.896974\tvalid_1's binary_logloss: 0.303235\tvalid_1's auc: 0.888819\n",
      "[450]\ttraining's binary_logloss: 0.29184\ttraining's auc: 0.899974\tvalid_1's binary_logloss: 0.300384\tvalid_1's auc: 0.891252\n",
      "[500]\ttraining's binary_logloss: 0.28894\ttraining's auc: 0.902367\tvalid_1's binary_logloss: 0.29829\tvalid_1's auc: 0.892975\n",
      "[550]\ttraining's binary_logloss: 0.286117\ttraining's auc: 0.904701\tvalid_1's binary_logloss: 0.29631\tvalid_1's auc: 0.894602\n",
      "[600]\ttraining's binary_logloss: 0.283652\ttraining's auc: 0.906643\tvalid_1's binary_logloss: 0.294633\tvalid_1's auc: 0.895908\n",
      "[650]\ttraining's binary_logloss: 0.281103\ttraining's auc: 0.90863\tvalid_1's binary_logloss: 0.292838\tvalid_1's auc: 0.897315\n",
      "[700]\ttraining's binary_logloss: 0.278651\ttraining's auc: 0.910526\tvalid_1's binary_logloss: 0.291034\tvalid_1's auc: 0.898735\n",
      "[750]\ttraining's binary_logloss: 0.276689\ttraining's auc: 0.912061\tvalid_1's binary_logloss: 0.289825\tvalid_1's auc: 0.899684\n",
      "[800]\ttraining's binary_logloss: 0.274656\ttraining's auc: 0.913563\tvalid_1's binary_logloss: 0.288556\tvalid_1's auc: 0.900608\n",
      "[850]\ttraining's binary_logloss: 0.272904\ttraining's auc: 0.91488\tvalid_1's binary_logloss: 0.287583\tvalid_1's auc: 0.901333\n",
      "[900]\ttraining's binary_logloss: 0.271216\ttraining's auc: 0.916108\tvalid_1's binary_logloss: 0.286704\tvalid_1's auc: 0.90195\n",
      "[950]\ttraining's binary_logloss: 0.269597\ttraining's auc: 0.917335\tvalid_1's binary_logloss: 0.285848\tvalid_1's auc: 0.902588\n",
      "[1000]\ttraining's binary_logloss: 0.268007\ttraining's auc: 0.91848\tvalid_1's binary_logloss: 0.285074\tvalid_1's auc: 0.903103\n",
      "[1050]\ttraining's binary_logloss: 0.266496\ttraining's auc: 0.919509\tvalid_1's binary_logloss: 0.284302\tvalid_1's auc: 0.903608\n",
      "[1100]\ttraining's binary_logloss: 0.264963\ttraining's auc: 0.9206\tvalid_1's binary_logloss: 0.28351\tvalid_1's auc: 0.904156\n",
      "[1150]\ttraining's binary_logloss: 0.263513\ttraining's auc: 0.921612\tvalid_1's binary_logloss: 0.282869\tvalid_1's auc: 0.904586\n",
      "[1200]\ttraining's binary_logloss: 0.262209\ttraining's auc: 0.922519\tvalid_1's binary_logloss: 0.28227\tvalid_1's auc: 0.904993\n",
      "[1250]\ttraining's binary_logloss: 0.260977\ttraining's auc: 0.92339\tvalid_1's binary_logloss: 0.281821\tvalid_1's auc: 0.905279\n",
      "[1300]\ttraining's binary_logloss: 0.259796\ttraining's auc: 0.924252\tvalid_1's binary_logloss: 0.28144\tvalid_1's auc: 0.905534\n",
      "[1350]\ttraining's binary_logloss: 0.258547\ttraining's auc: 0.925098\tvalid_1's binary_logloss: 0.280924\tvalid_1's auc: 0.905873\n",
      "[1400]\ttraining's binary_logloss: 0.25735\ttraining's auc: 0.925903\tvalid_1's binary_logloss: 0.280471\tvalid_1's auc: 0.90617\n",
      "[1450]\ttraining's binary_logloss: 0.256324\ttraining's auc: 0.92661\tvalid_1's binary_logloss: 0.280132\tvalid_1's auc: 0.906392\n",
      "[1500]\ttraining's binary_logloss: 0.255294\ttraining's auc: 0.927312\tvalid_1's binary_logloss: 0.279774\tvalid_1's auc: 0.906625\n",
      "[1550]\ttraining's binary_logloss: 0.254231\ttraining's auc: 0.928035\tvalid_1's binary_logloss: 0.279432\tvalid_1's auc: 0.906853\n",
      "[1600]\ttraining's binary_logloss: 0.25323\ttraining's auc: 0.92871\tvalid_1's binary_logloss: 0.279131\tvalid_1's auc: 0.907043\n",
      "[1650]\ttraining's binary_logloss: 0.25214\ttraining's auc: 0.929445\tvalid_1's binary_logloss: 0.278764\tvalid_1's auc: 0.907281\n",
      "[1700]\ttraining's binary_logloss: 0.251137\ttraining's auc: 0.930129\tvalid_1's binary_logloss: 0.278515\tvalid_1's auc: 0.907431\n",
      "[1750]\ttraining's binary_logloss: 0.250085\ttraining's auc: 0.93085\tvalid_1's binary_logloss: 0.278196\tvalid_1's auc: 0.907651\n",
      "[1800]\ttraining's binary_logloss: 0.249077\ttraining's auc: 0.931542\tvalid_1's binary_logloss: 0.277961\tvalid_1's auc: 0.907813\n",
      "[1850]\ttraining's binary_logloss: 0.248136\ttraining's auc: 0.932171\tvalid_1's binary_logloss: 0.277723\tvalid_1's auc: 0.907961\n",
      "[1900]\ttraining's binary_logloss: 0.24718\ttraining's auc: 0.932811\tvalid_1's binary_logloss: 0.277546\tvalid_1's auc: 0.908068\n",
      "[1950]\ttraining's binary_logloss: 0.246213\ttraining's auc: 0.933487\tvalid_1's binary_logloss: 0.277377\tvalid_1's auc: 0.908163\n",
      "[2000]\ttraining's binary_logloss: 0.245316\ttraining's auc: 0.93408\tvalid_1's binary_logloss: 0.277229\tvalid_1's auc: 0.908255\n",
      "Did not meet early stopping. Best iteration is:\n",
      "[2000]\ttraining's binary_logloss: 0.245316\ttraining's auc: 0.93408\tvalid_1's binary_logloss: 0.277229\tvalid_1's auc: 0.908255\n",
      "Training until validation scores don't improve for 50 rounds\n",
      "[50]\ttraining's binary_logloss: 0.348246\ttraining's auc: 0.83855\tvalid_1's binary_logloss: 0.348686\tvalid_1's auc: 0.838732\n",
      "[100]\ttraining's binary_logloss: 0.331111\ttraining's auc: 0.860276\tvalid_1's binary_logloss: 0.332465\tvalid_1's auc: 0.859204\n",
      "[150]\ttraining's binary_logloss: 0.321564\ttraining's auc: 0.871363\tvalid_1's binary_logloss: 0.323878\tvalid_1's auc: 0.869164\n",
      "[200]\ttraining's binary_logloss: 0.313695\ttraining's auc: 0.879874\tvalid_1's binary_logloss: 0.316872\tvalid_1's auc: 0.876703\n",
      "[250]\ttraining's binary_logloss: 0.307545\ttraining's auc: 0.885962\tvalid_1's binary_logloss: 0.311573\tvalid_1's auc: 0.88193\n",
      "[300]\ttraining's binary_logloss: 0.302668\ttraining's auc: 0.890551\tvalid_1's binary_logloss: 0.307535\tvalid_1's auc: 0.885676\n",
      "[350]\ttraining's binary_logloss: 0.298437\ttraining's auc: 0.894345\tvalid_1's binary_logloss: 0.304241\tvalid_1's auc: 0.888611\n",
      "[400]\ttraining's binary_logloss: 0.294899\ttraining's auc: 0.897418\tvalid_1's binary_logloss: 0.301522\tvalid_1's auc: 0.890935\n",
      "[450]\ttraining's binary_logloss: 0.291986\ttraining's auc: 0.899997\tvalid_1's binary_logloss: 0.29947\tvalid_1's auc: 0.892714\n",
      "[500]\ttraining's binary_logloss: 0.288916\ttraining's auc: 0.902502\tvalid_1's binary_logloss: 0.297269\tvalid_1's auc: 0.894468\n",
      "[550]\ttraining's binary_logloss: 0.286085\ttraining's auc: 0.904735\tvalid_1's binary_logloss: 0.295258\tvalid_1's auc: 0.896013\n",
      "[600]\ttraining's binary_logloss: 0.283562\ttraining's auc: 0.906713\tvalid_1's binary_logloss: 0.293488\tvalid_1's auc: 0.897386\n",
      "[650]\ttraining's binary_logloss: 0.281191\ttraining's auc: 0.908521\tvalid_1's binary_logloss: 0.29197\tvalid_1's auc: 0.898508\n",
      "[700]\ttraining's binary_logloss: 0.278942\ttraining's auc: 0.910194\tvalid_1's binary_logloss: 0.290478\tvalid_1's auc: 0.899591\n",
      "[750]\ttraining's binary_logloss: 0.276803\ttraining's auc: 0.911808\tvalid_1's binary_logloss: 0.289089\tvalid_1's auc: 0.900607\n",
      "[800]\ttraining's binary_logloss: 0.274771\ttraining's auc: 0.913366\tvalid_1's binary_logloss: 0.287847\tvalid_1's auc: 0.901542\n",
      "[850]\ttraining's binary_logloss: 0.272999\ttraining's auc: 0.914693\tvalid_1's binary_logloss: 0.286886\tvalid_1's auc: 0.902224\n",
      "[900]\ttraining's binary_logloss: 0.271348\ttraining's auc: 0.915944\tvalid_1's binary_logloss: 0.285978\tvalid_1's auc: 0.902872\n",
      "[950]\ttraining's binary_logloss: 0.269827\ttraining's auc: 0.917064\tvalid_1's binary_logloss: 0.285232\tvalid_1's auc: 0.903395\n",
      "[1000]\ttraining's binary_logloss: 0.268256\ttraining's auc: 0.918181\tvalid_1's binary_logloss: 0.284402\tvalid_1's auc: 0.90395\n",
      "[1050]\ttraining's binary_logloss: 0.266812\ttraining's auc: 0.919256\tvalid_1's binary_logloss: 0.283688\tvalid_1's auc: 0.904465\n",
      "[1100]\ttraining's binary_logloss: 0.265573\ttraining's auc: 0.92017\tvalid_1's binary_logloss: 0.283119\tvalid_1's auc: 0.904861\n",
      "[1150]\ttraining's binary_logloss: 0.264144\ttraining's auc: 0.921192\tvalid_1's binary_logloss: 0.282396\tvalid_1's auc: 0.905364\n",
      "[1200]\ttraining's binary_logloss: 0.262784\ttraining's auc: 0.922159\tvalid_1's binary_logloss: 0.281769\tvalid_1's auc: 0.90578\n",
      "[1250]\ttraining's binary_logloss: 0.261367\ttraining's auc: 0.923173\tvalid_1's binary_logloss: 0.28104\tvalid_1's auc: 0.906282\n",
      "[1300]\ttraining's binary_logloss: 0.260224\ttraining's auc: 0.923962\tvalid_1's binary_logloss: 0.280562\tvalid_1's auc: 0.906599\n",
      "[1350]\ttraining's binary_logloss: 0.25898\ttraining's auc: 0.924831\tvalid_1's binary_logloss: 0.280088\tvalid_1's auc: 0.906911\n",
      "[1400]\ttraining's binary_logloss: 0.257808\ttraining's auc: 0.92567\tvalid_1's binary_logloss: 0.27967\tvalid_1's auc: 0.907188\n",
      "[1450]\ttraining's binary_logloss: 0.256725\ttraining's auc: 0.926419\tvalid_1's binary_logloss: 0.279279\tvalid_1's auc: 0.907433\n",
      "[1500]\ttraining's binary_logloss: 0.255559\ttraining's auc: 0.927212\tvalid_1's binary_logloss: 0.278901\tvalid_1's auc: 0.907663\n",
      "[1550]\ttraining's binary_logloss: 0.254467\ttraining's auc: 0.927991\tvalid_1's binary_logloss: 0.278631\tvalid_1's auc: 0.907826\n",
      "[1600]\ttraining's binary_logloss: 0.253411\ttraining's auc: 0.928708\tvalid_1's binary_logloss: 0.278312\tvalid_1's auc: 0.908023\n",
      "[1650]\ttraining's binary_logloss: 0.2522\ttraining's auc: 0.929533\tvalid_1's binary_logloss: 0.277833\tvalid_1's auc: 0.908337\n",
      "[1700]\ttraining's binary_logloss: 0.251193\ttraining's auc: 0.930235\tvalid_1's binary_logloss: 0.277605\tvalid_1's auc: 0.908462\n",
      "[1750]\ttraining's binary_logloss: 0.250178\ttraining's auc: 0.930924\tvalid_1's binary_logloss: 0.277361\tvalid_1's auc: 0.908597\n",
      "[1800]\ttraining's binary_logloss: 0.249115\ttraining's auc: 0.931625\tvalid_1's binary_logloss: 0.277013\tvalid_1's auc: 0.908814\n",
      "[1850]\ttraining's binary_logloss: 0.2481\ttraining's auc: 0.932266\tvalid_1's binary_logloss: 0.276675\tvalid_1's auc: 0.909022\n",
      "[1900]\ttraining's binary_logloss: 0.247118\ttraining's auc: 0.932899\tvalid_1's binary_logloss: 0.276385\tvalid_1's auc: 0.909197\n",
      "[1950]\ttraining's binary_logloss: 0.246181\ttraining's auc: 0.933541\tvalid_1's binary_logloss: 0.276258\tvalid_1's auc: 0.909268\n",
      "[2000]\ttraining's binary_logloss: 0.245259\ttraining's auc: 0.93415\tvalid_1's binary_logloss: 0.27602\tvalid_1's auc: 0.909409\n",
      "Did not meet early stopping. Best iteration is:\n",
      "[2000]\ttraining's binary_logloss: 0.245259\ttraining's auc: 0.93415\tvalid_1's binary_logloss: 0.27602\tvalid_1's auc: 0.909409\n",
      "Training until validation scores don't improve for 50 rounds\n",
      "[50]\ttraining's binary_logloss: 0.34763\ttraining's auc: 0.83952\tvalid_1's binary_logloss: 0.350224\tvalid_1's auc: 0.83614\n",
      "[100]\ttraining's binary_logloss: 0.330591\ttraining's auc: 0.860901\tvalid_1's binary_logloss: 0.334309\tvalid_1's auc: 0.856285\n",
      "[150]\ttraining's binary_logloss: 0.320528\ttraining's auc: 0.872372\tvalid_1's binary_logloss: 0.325197\tvalid_1's auc: 0.866813\n",
      "[200]\ttraining's binary_logloss: 0.313759\ttraining's auc: 0.879677\tvalid_1's binary_logloss: 0.319386\tvalid_1's auc: 0.873141\n",
      "[250]\ttraining's binary_logloss: 0.308032\ttraining's auc: 0.885467\tvalid_1's binary_logloss: 0.31461\tvalid_1's auc: 0.878015\n",
      "[300]\ttraining's binary_logloss: 0.302731\ttraining's auc: 0.89053\tvalid_1's binary_logloss: 0.310218\tvalid_1's auc: 0.882267\n",
      "[350]\ttraining's binary_logloss: 0.298509\ttraining's auc: 0.894345\tvalid_1's binary_logloss: 0.306895\tvalid_1's auc: 0.885326\n",
      "[400]\ttraining's binary_logloss: 0.294799\ttraining's auc: 0.897586\tvalid_1's binary_logloss: 0.304038\tvalid_1's auc: 0.887832\n",
      "[450]\ttraining's binary_logloss: 0.291511\ttraining's auc: 0.900334\tvalid_1's binary_logloss: 0.301597\tvalid_1's auc: 0.889878\n",
      "[500]\ttraining's binary_logloss: 0.288223\ttraining's auc: 0.903065\tvalid_1's binary_logloss: 0.299125\tvalid_1's auc: 0.891972\n",
      "[550]\ttraining's binary_logloss: 0.285412\ttraining's auc: 0.905347\tvalid_1's binary_logloss: 0.297102\tvalid_1's auc: 0.893651\n",
      "[600]\ttraining's binary_logloss: 0.282898\ttraining's auc: 0.907296\tvalid_1's binary_logloss: 0.295498\tvalid_1's auc: 0.894898\n",
      "[650]\ttraining's binary_logloss: 0.280727\ttraining's auc: 0.908974\tvalid_1's binary_logloss: 0.294105\tvalid_1's auc: 0.895975\n",
      "[700]\ttraining's binary_logloss: 0.27866\ttraining's auc: 0.910527\tvalid_1's binary_logloss: 0.292801\tvalid_1's auc: 0.896969\n",
      "[750]\ttraining's binary_logloss: 0.276663\ttraining's auc: 0.912033\tvalid_1's binary_logloss: 0.291644\tvalid_1's auc: 0.897837\n",
      "[800]\ttraining's binary_logloss: 0.274601\ttraining's auc: 0.91358\tvalid_1's binary_logloss: 0.290397\tvalid_1's auc: 0.898791\n",
      "[850]\ttraining's binary_logloss: 0.272738\ttraining's auc: 0.915013\tvalid_1's binary_logloss: 0.28928\tvalid_1's auc: 0.899667\n",
      "[900]\ttraining's binary_logloss: 0.271152\ttraining's auc: 0.916152\tvalid_1's binary_logloss: 0.288401\tvalid_1's auc: 0.900287\n",
      "[950]\ttraining's binary_logloss: 0.269393\ttraining's auc: 0.917383\tvalid_1's binary_logloss: 0.287361\tvalid_1's auc: 0.901032\n",
      "[1000]\ttraining's binary_logloss: 0.267981\ttraining's auc: 0.918397\tvalid_1's binary_logloss: 0.286716\tvalid_1's auc: 0.901482\n",
      "[1050]\ttraining's binary_logloss: 0.266425\ttraining's auc: 0.919506\tvalid_1's binary_logloss: 0.285907\tvalid_1's auc: 0.902061\n",
      "[1100]\ttraining's binary_logloss: 0.26492\ttraining's auc: 0.920567\tvalid_1's binary_logloss: 0.285155\tvalid_1's auc: 0.902597\n",
      "[1150]\ttraining's binary_logloss: 0.26347\ttraining's auc: 0.921617\tvalid_1's binary_logloss: 0.284559\tvalid_1's auc: 0.903023\n",
      "[1200]\ttraining's binary_logloss: 0.26206\ttraining's auc: 0.922609\tvalid_1's binary_logloss: 0.283955\tvalid_1's auc: 0.903448\n",
      "[1250]\ttraining's binary_logloss: 0.260824\ttraining's auc: 0.923508\tvalid_1's binary_logloss: 0.283555\tvalid_1's auc: 0.903716\n",
      "[1300]\ttraining's binary_logloss: 0.2595\ttraining's auc: 0.924454\tvalid_1's binary_logloss: 0.283059\tvalid_1's auc: 0.904065\n",
      "[1350]\ttraining's binary_logloss: 0.258297\ttraining's auc: 0.925299\tvalid_1's binary_logloss: 0.282677\tvalid_1's auc: 0.904323\n",
      "[1400]\ttraining's binary_logloss: 0.257158\ttraining's auc: 0.926107\tvalid_1's binary_logloss: 0.282284\tvalid_1's auc: 0.904601\n",
      "[1450]\ttraining's binary_logloss: 0.25596\ttraining's auc: 0.926949\tvalid_1's binary_logloss: 0.281824\tvalid_1's auc: 0.904935\n",
      "[1500]\ttraining's binary_logloss: 0.254819\ttraining's auc: 0.927722\tvalid_1's binary_logloss: 0.281492\tvalid_1's auc: 0.905153\n",
      "[1550]\ttraining's binary_logloss: 0.253566\ttraining's auc: 0.928549\tvalid_1's binary_logloss: 0.280997\tvalid_1's auc: 0.905479\n",
      "[1600]\ttraining's binary_logloss: 0.252518\ttraining's auc: 0.929279\tvalid_1's binary_logloss: 0.28072\tvalid_1's auc: 0.905664\n",
      "[1650]\ttraining's binary_logloss: 0.25142\ttraining's auc: 0.930027\tvalid_1's binary_logloss: 0.280375\tvalid_1's auc: 0.905895\n",
      "[1700]\ttraining's binary_logloss: 0.250339\ttraining's auc: 0.93075\tvalid_1's binary_logloss: 0.280035\tvalid_1's auc: 0.906121\n",
      "[1750]\ttraining's binary_logloss: 0.249315\ttraining's auc: 0.931421\tvalid_1's binary_logloss: 0.279713\tvalid_1's auc: 0.906332\n",
      "[1800]\ttraining's binary_logloss: 0.24835\ttraining's auc: 0.932067\tvalid_1's binary_logloss: 0.2795\tvalid_1's auc: 0.906464\n",
      "[1850]\ttraining's binary_logloss: 0.24735\ttraining's auc: 0.932735\tvalid_1's binary_logloss: 0.279311\tvalid_1's auc: 0.906585\n",
      "[1900]\ttraining's binary_logloss: 0.246403\ttraining's auc: 0.933378\tvalid_1's binary_logloss: 0.279114\tvalid_1's auc: 0.906713\n",
      "[1950]\ttraining's binary_logloss: 0.245442\ttraining's auc: 0.934007\tvalid_1's binary_logloss: 0.278902\tvalid_1's auc: 0.906837\n",
      "[2000]\ttraining's binary_logloss: 0.244653\ttraining's auc: 0.934541\tvalid_1's binary_logloss: 0.27878\tvalid_1's auc: 0.906917\n",
      "Did not meet early stopping. Best iteration is:\n",
      "[2000]\ttraining's binary_logloss: 0.244653\ttraining's auc: 0.934541\tvalid_1's binary_logloss: 0.27878\tvalid_1's auc: 0.906917\n",
      "Training until validation scores don't improve for 50 rounds\n",
      "[50]\ttraining's binary_logloss: 0.34719\ttraining's auc: 0.840527\tvalid_1's binary_logloss: 0.347985\tvalid_1's auc: 0.838442\n",
      "[100]\ttraining's binary_logloss: 0.33054\ttraining's auc: 0.861007\tvalid_1's binary_logloss: 0.33187\tvalid_1's auc: 0.85854\n",
      "[150]\ttraining's binary_logloss: 0.321152\ttraining's auc: 0.871837\tvalid_1's binary_logloss: 0.323277\tvalid_1's auc: 0.868582\n",
      "[200]\ttraining's binary_logloss: 0.314693\ttraining's auc: 0.878779\tvalid_1's binary_logloss: 0.317725\tvalid_1's auc: 0.87459\n",
      "[250]\ttraining's binary_logloss: 0.309175\ttraining's auc: 0.884365\tvalid_1's binary_logloss: 0.313025\tvalid_1's auc: 0.879366\n",
      "[300]\ttraining's binary_logloss: 0.304331\ttraining's auc: 0.889059\tvalid_1's binary_logloss: 0.309164\tvalid_1's auc: 0.88311\n",
      "[350]\ttraining's binary_logloss: 0.299823\ttraining's auc: 0.893312\tvalid_1's binary_logloss: 0.305563\tvalid_1's auc: 0.886502\n",
      "[400]\ttraining's binary_logloss: 0.296373\ttraining's auc: 0.896366\tvalid_1's binary_logloss: 0.302968\tvalid_1's auc: 0.888814\n",
      "[450]\ttraining's binary_logloss: 0.292753\ttraining's auc: 0.899485\tvalid_1's binary_logloss: 0.300269\tvalid_1's auc: 0.891119\n",
      "[500]\ttraining's binary_logloss: 0.290012\ttraining's auc: 0.90176\tvalid_1's binary_logloss: 0.298465\tvalid_1's auc: 0.892576\n",
      "[550]\ttraining's binary_logloss: 0.287422\ttraining's auc: 0.903906\tvalid_1's binary_logloss: 0.29673\tvalid_1's auc: 0.894\n",
      "[600]\ttraining's binary_logloss: 0.284723\ttraining's auc: 0.906043\tvalid_1's binary_logloss: 0.294919\tvalid_1's auc: 0.895404\n",
      "[650]\ttraining's binary_logloss: 0.282299\ttraining's auc: 0.907986\tvalid_1's binary_logloss: 0.293275\tvalid_1's auc: 0.896709\n",
      "[700]\ttraining's binary_logloss: 0.280327\ttraining's auc: 0.909546\tvalid_1's binary_logloss: 0.292208\tvalid_1's auc: 0.89748\n",
      "[750]\ttraining's binary_logloss: 0.27844\ttraining's auc: 0.911\tvalid_1's binary_logloss: 0.291155\tvalid_1's auc: 0.898266\n",
      "[800]\ttraining's binary_logloss: 0.276295\ttraining's auc: 0.912578\tvalid_1's binary_logloss: 0.2898\tvalid_1's auc: 0.899241\n",
      "[850]\ttraining's binary_logloss: 0.274372\ttraining's auc: 0.913998\tvalid_1's binary_logloss: 0.288658\tvalid_1's auc: 0.900075\n",
      "[900]\ttraining's binary_logloss: 0.272619\ttraining's auc: 0.915333\tvalid_1's binary_logloss: 0.287781\tvalid_1's auc: 0.900718\n",
      "[950]\ttraining's binary_logloss: 0.27091\ttraining's auc: 0.916602\tvalid_1's binary_logloss: 0.286897\tvalid_1's auc: 0.90135\n",
      "[1000]\ttraining's binary_logloss: 0.269189\ttraining's auc: 0.917896\tvalid_1's binary_logloss: 0.286034\tvalid_1's auc: 0.90197\n",
      "[1050]\ttraining's binary_logloss: 0.267457\ttraining's auc: 0.919096\tvalid_1's binary_logloss: 0.285139\tvalid_1's auc: 0.90258\n",
      "[1100]\ttraining's binary_logloss: 0.265822\ttraining's auc: 0.920248\tvalid_1's binary_logloss: 0.284348\tvalid_1's auc: 0.90311\n",
      "[1150]\ttraining's binary_logloss: 0.264359\ttraining's auc: 0.921289\tvalid_1's binary_logloss: 0.283707\tvalid_1's auc: 0.903541\n",
      "[1200]\ttraining's binary_logloss: 0.262972\ttraining's auc: 0.922284\tvalid_1's binary_logloss: 0.283127\tvalid_1's auc: 0.903945\n",
      "[1250]\ttraining's binary_logloss: 0.261614\ttraining's auc: 0.923213\tvalid_1's binary_logloss: 0.282533\tvalid_1's auc: 0.904332\n",
      "[1300]\ttraining's binary_logloss: 0.260309\ttraining's auc: 0.924102\tvalid_1's binary_logloss: 0.282018\tvalid_1's auc: 0.90466\n",
      "[1350]\ttraining's binary_logloss: 0.259132\ttraining's auc: 0.924894\tvalid_1's binary_logloss: 0.281637\tvalid_1's auc: 0.904909\n",
      "[1400]\ttraining's binary_logloss: 0.257885\ttraining's auc: 0.92573\tvalid_1's binary_logloss: 0.281077\tvalid_1's auc: 0.905279\n",
      "[1450]\ttraining's binary_logloss: 0.256738\ttraining's auc: 0.926514\tvalid_1's binary_logloss: 0.280695\tvalid_1's auc: 0.905525\n",
      "[1500]\ttraining's binary_logloss: 0.255631\ttraining's auc: 0.927261\tvalid_1's binary_logloss: 0.280284\tvalid_1's auc: 0.90581\n",
      "[1550]\ttraining's binary_logloss: 0.254493\ttraining's auc: 0.92804\tvalid_1's binary_logloss: 0.279961\tvalid_1's auc: 0.906005\n",
      "[1600]\ttraining's binary_logloss: 0.253336\ttraining's auc: 0.928786\tvalid_1's binary_logloss: 0.279511\tvalid_1's auc: 0.906298\n",
      "[1650]\ttraining's binary_logloss: 0.25215\ttraining's auc: 0.929581\tvalid_1's binary_logloss: 0.279078\tvalid_1's auc: 0.906584\n",
      "[1700]\ttraining's binary_logloss: 0.251123\ttraining's auc: 0.930286\tvalid_1's binary_logloss: 0.278807\tvalid_1's auc: 0.906752\n",
      "[1750]\ttraining's binary_logloss: 0.250098\ttraining's auc: 0.930968\tvalid_1's binary_logloss: 0.278583\tvalid_1's auc: 0.906876\n",
      "[1800]\ttraining's binary_logloss: 0.249083\ttraining's auc: 0.931636\tvalid_1's binary_logloss: 0.278334\tvalid_1's auc: 0.907033\n",
      "[1850]\ttraining's binary_logloss: 0.248186\ttraining's auc: 0.932278\tvalid_1's binary_logloss: 0.278257\tvalid_1's auc: 0.907069\n",
      "[1900]\ttraining's binary_logloss: 0.247285\ttraining's auc: 0.932877\tvalid_1's binary_logloss: 0.278072\tvalid_1's auc: 0.907187\n",
      "[1950]\ttraining's binary_logloss: 0.246323\ttraining's auc: 0.933518\tvalid_1's binary_logloss: 0.277926\tvalid_1's auc: 0.907267\n",
      "[2000]\ttraining's binary_logloss: 0.245416\ttraining's auc: 0.934118\tvalid_1's binary_logloss: 0.277782\tvalid_1's auc: 0.907355\n",
      "Did not meet early stopping. Best iteration is:\n",
      "[2000]\ttraining's binary_logloss: 0.245416\ttraining's auc: 0.934118\tvalid_1's binary_logloss: 0.277782\tvalid_1's auc: 0.907355\n"
     ]
    }
   ],
   "source": [
    "params = {'num_leaves': 63, #结果对最终效果影响较大，越大值越好，太大会出现过拟合\n",
    "          'objective': 'binary', #定义的目标函数\n",
    "          'max_depth': 8,\n",
    "          'learning_rate': 0.1,\n",
    "          \"min_sum_hessian_in_leaf\": 6,\n",
    "          \"boosting\": \"gbdt\",\n",
    "          \"feature_fraction\": 1,  #提取的特征比率\n",
    "          \"bagging_freq\": 1,\n",
    "          \"bagging_fraction\": 1,\n",
    "          \"bagging_seed\": 11,\n",
    "#           \"lambda_l1\": 0.1,             #l1正则\n",
    "          # 'lambda_l2': 0.001,     #l2正则\n",
    "          \"verbosity\": -1,\n",
    "          \"nthread\": multiprocessing.cpu_count(),                #线程数量，-1表示全部线程，线程越多，运行的速度越快\n",
    "          'metric': {'binary_logloss', 'auc'},  ##评价函数选择\n",
    "          \"random_state\": 2077, #随机数种子，可以防止每次运行的结果不一致\n",
    "          # 'device': 'gpu' ##如果安装的事gpu版本的lightgbm,可以加快运算\n",
    "          }\n",
    "\n",
    "n_fold = 5\n",
    "oof_pre = np.zeros(len(train_df))\n",
    "y_pre = np.zeros(len(test_df))\n",
    "\n",
    "kf = KFold(n_splits=n_fold)\n",
    "for fold_, (trn_idx, val_idx) in enumerate(kf.split(train_df)):\n",
    "\n",
    "    trn_data = lgb.Dataset(train_df[feature].iloc[trn_idx], label=train_df['label'].iloc[trn_idx])\n",
    "    val_data = lgb.Dataset(train_df[feature].iloc[val_idx], label=train_df['label'].iloc[val_idx])\n",
    "\n",
    "    clf = lgb.train(params,\n",
    "                    trn_data,\n",
    "                    2000,\n",
    "                    valid_sets=[trn_data, val_data],\n",
    "                    verbose_eval=50,\n",
    "                    early_stopping_rounds=50)\n",
    "    # out of fold\n",
    "    oof_pre[val_idx] = clf.predict(train_df[feature].iloc[val_idx], num_iteration=clf.best_iteration)\n",
    "\n",
    "    y_pre += clf.predict(test_df[feature], num_iteration=clf.best_iteration) / n_fold"
   ]
  },
  {
   "cell_type": "code",
   "execution_count": 29,
   "id": "d0ceccc9",
   "metadata": {
    "execution": {
     "iopub.execute_input": "2023-02-17T15:44:46.079428Z",
     "iopub.status.busy": "2023-02-17T15:44:46.078473Z",
     "iopub.status.idle": "2023-02-17T15:44:47.701432Z",
     "shell.execute_reply": "2023-02-17T15:44:47.700007Z"
    },
    "papermill": {
     "duration": 1.652903,
     "end_time": "2023-02-17T15:44:47.704358",
     "exception": false,
     "start_time": "2023-02-17T15:44:46.051455",
     "status": "completed"
    },
    "tags": []
   },
   "outputs": [
    {
     "name": "stdout",
     "output_type": "stream",
     "text": [
      "Local AUC :0.9080201911806662\n"
     ]
    }
   ],
   "source": [
    "local_auc = roc_auc_score(train_df['label'], oof_pre)\n",
    "print(f'Local AUC :{local_auc}')"
   ]
  },
  {
   "cell_type": "code",
   "execution_count": 30,
   "id": "119af01a",
   "metadata": {
    "execution": {
     "iopub.execute_input": "2023-02-17T15:44:47.756422Z",
     "iopub.status.busy": "2023-02-17T15:44:47.756010Z",
     "iopub.status.idle": "2023-02-17T15:44:53.335398Z",
     "shell.execute_reply": "2023-02-17T15:44:53.334227Z"
    },
    "papermill": {
     "duration": 5.608968,
     "end_time": "2023-02-17T15:44:53.338232",
     "exception": false,
     "start_time": "2023-02-17T15:44:47.729264",
     "status": "completed"
    },
    "tags": []
   },
   "outputs": [],
   "source": [
    "res_df = pd.DataFrame()\n",
    "res_df['ID'] = test_df['ID']\n",
    "res_df['label'] = y_pre\n",
    "res_df.to_csv('/kaggle/working/lgb-baseline.csv',index=False)"
   ]
  },
  {
   "cell_type": "code",
   "execution_count": null,
   "id": "fcaac0e7",
   "metadata": {
    "papermill": {
     "duration": 0.024143,
     "end_time": "2023-02-17T15:44:53.387485",
     "exception": false,
     "start_time": "2023-02-17T15:44:53.363342",
     "status": "completed"
    },
    "tags": []
   },
   "outputs": [],
   "source": []
  }
 ],
 "metadata": {
  "kernelspec": {
   "display_name": "Python 3",
   "language": "python",
   "name": "python3"
  },
  "language_info": {
   "codemirror_mode": {
    "name": "ipython",
    "version": 3
   },
   "file_extension": ".py",
   "mimetype": "text/x-python",
   "name": "python",
   "nbconvert_exporter": "python",
   "pygments_lexer": "ipython3",
   "version": "3.7.12"
  },
  "papermill": {
   "default_parameters": {},
   "duration": 6911.575781,
   "end_time": "2023-02-17T15:44:56.145713",
   "environment_variables": {},
   "exception": null,
   "input_path": "__notebook__.ipynb",
   "output_path": "__notebook__.ipynb",
   "parameters": {},
   "start_time": "2023-02-17T13:49:44.569932",
   "version": "2.3.4"
  },
  "widgets": {
   "application/vnd.jupyter.widget-state+json": {
    "state": {
     "0fa567aac8dc4b9da2f104653af26783": {
      "model_module": "@jupyter-widgets/controls",
      "model_module_version": "1.5.0",
      "model_name": "DescriptionStyleModel",
      "state": {
       "_model_module": "@jupyter-widgets/controls",
       "_model_module_version": "1.5.0",
       "_model_name": "DescriptionStyleModel",
       "_view_count": null,
       "_view_module": "@jupyter-widgets/base",
       "_view_module_version": "1.2.0",
       "_view_name": "StyleView",
       "description_width": ""
      }
     },
     "10149555ea8d423495730430e9d6a9d2": {
      "model_module": "@jupyter-widgets/controls",
      "model_module_version": "1.5.0",
      "model_name": "HTMLModel",
      "state": {
       "_dom_classes": [],
       "_model_module": "@jupyter-widgets/controls",
       "_model_module_version": "1.5.0",
       "_model_name": "HTMLModel",
       "_view_count": null,
       "_view_module": "@jupyter-widgets/controls",
       "_view_module_version": "1.5.0",
       "_view_name": "HTMLView",
       "description": "",
       "description_tooltip": null,
       "layout": "IPY_MODEL_7a22ffba66444886b1ea01628b654853",
       "placeholder": "​",
       "style": "IPY_MODEL_0fa567aac8dc4b9da2f104653af26783",
       "value": "100%"
      }
     },
     "199ed9286f8d4e6fbdd3a6c53d63b6ae": {
      "model_module": "@jupyter-widgets/controls",
      "model_module_version": "1.5.0",
      "model_name": "HBoxModel",
      "state": {
       "_dom_classes": [],
       "_model_module": "@jupyter-widgets/controls",
       "_model_module_version": "1.5.0",
       "_model_name": "HBoxModel",
       "_view_count": null,
       "_view_module": "@jupyter-widgets/controls",
       "_view_module_version": "1.5.0",
       "_view_name": "HBoxView",
       "box_style": "",
       "children": [
        "IPY_MODEL_10149555ea8d423495730430e9d6a9d2",
        "IPY_MODEL_27696da01a654d46b6d75ec613206c42",
        "IPY_MODEL_3575f8fe991d4779a4cf21649d3a2c2d"
       ],
       "layout": "IPY_MODEL_2376cbe7805342dbbf38358284b9e699"
      }
     },
     "2099783622824881b9209f5f64211cfd": {
      "model_module": "@jupyter-widgets/controls",
      "model_module_version": "1.5.0",
      "model_name": "HTMLModel",
      "state": {
       "_dom_classes": [],
       "_model_module": "@jupyter-widgets/controls",
       "_model_module_version": "1.5.0",
       "_model_name": "HTMLModel",
       "_view_count": null,
       "_view_module": "@jupyter-widgets/controls",
       "_view_module_version": "1.5.0",
       "_view_name": "HTMLView",
       "description": "",
       "description_tooltip": null,
       "layout": "IPY_MODEL_453d8e3727bc4b329035e4fe01d4ee68",
       "placeholder": "​",
       "style": "IPY_MODEL_397c21a19b1a482783e0f221dde52e38",
       "value": " 9/9 [00:22&lt;00:00,  1.82s/it]"
      }
     },
     "22e4a5c92db44574807070bdbb5ee04f": {
      "model_module": "@jupyter-widgets/controls",
      "model_module_version": "1.5.0",
      "model_name": "HBoxModel",
      "state": {
       "_dom_classes": [],
       "_model_module": "@jupyter-widgets/controls",
       "_model_module_version": "1.5.0",
       "_model_name": "HBoxModel",
       "_view_count": null,
       "_view_module": "@jupyter-widgets/controls",
       "_view_module_version": "1.5.0",
       "_view_name": "HBoxView",
       "box_style": "",
       "children": [
        "IPY_MODEL_6d907f641ab7413b8b8e102e07538273",
        "IPY_MODEL_9e49f5c377ce48c88de7eee67990e5fe",
        "IPY_MODEL_2099783622824881b9209f5f64211cfd"
       ],
       "layout": "IPY_MODEL_a6a32039088a402484a7ff248180eec7"
      }
     },
     "2376cbe7805342dbbf38358284b9e699": {
      "model_module": "@jupyter-widgets/base",
      "model_module_version": "1.2.0",
      "model_name": "LayoutModel",
      "state": {
       "_model_module": "@jupyter-widgets/base",
       "_model_module_version": "1.2.0",
       "_model_name": "LayoutModel",
       "_view_count": null,
       "_view_module": "@jupyter-widgets/base",
       "_view_module_version": "1.2.0",
       "_view_name": "LayoutView",
       "align_content": null,
       "align_items": null,
       "align_self": null,
       "border": null,
       "bottom": null,
       "display": null,
       "flex": null,
       "flex_flow": null,
       "grid_area": null,
       "grid_auto_columns": null,
       "grid_auto_flow": null,
       "grid_auto_rows": null,
       "grid_column": null,
       "grid_gap": null,
       "grid_row": null,
       "grid_template_areas": null,
       "grid_template_columns": null,
       "grid_template_rows": null,
       "height": null,
       "justify_content": null,
       "justify_items": null,
       "left": null,
       "margin": null,
       "max_height": null,
       "max_width": null,
       "min_height": null,
       "min_width": null,
       "object_fit": null,
       "object_position": null,
       "order": null,
       "overflow": null,
       "overflow_x": null,
       "overflow_y": null,
       "padding": null,
       "right": null,
       "top": null,
       "visibility": null,
       "width": null
      }
     },
     "266fd43616604a47859d1995fd3cf266": {
      "model_module": "@jupyter-widgets/controls",
      "model_module_version": "1.5.0",
      "model_name": "HBoxModel",
      "state": {
       "_dom_classes": [],
       "_model_module": "@jupyter-widgets/controls",
       "_model_module_version": "1.5.0",
       "_model_name": "HBoxModel",
       "_view_count": null,
       "_view_module": "@jupyter-widgets/controls",
       "_view_module_version": "1.5.0",
       "_view_name": "HBoxView",
       "box_style": "",
       "children": [
        "IPY_MODEL_3a5a01a2281c4e5696649f1e70412ba2",
        "IPY_MODEL_965091f12e8049e9b36b06886e270dcb",
        "IPY_MODEL_296e99f8695b4ada8d77dc586b1c1167"
       ],
       "layout": "IPY_MODEL_81a4a699cc804c7fa983ae0ad890eb4f"
      }
     },
     "27696da01a654d46b6d75ec613206c42": {
      "model_module": "@jupyter-widgets/controls",
      "model_module_version": "1.5.0",
      "model_name": "FloatProgressModel",
      "state": {
       "_dom_classes": [],
       "_model_module": "@jupyter-widgets/controls",
       "_model_module_version": "1.5.0",
       "_model_name": "FloatProgressModel",
       "_view_count": null,
       "_view_module": "@jupyter-widgets/controls",
       "_view_module_version": "1.5.0",
       "_view_name": "ProgressView",
       "bar_style": "success",
       "description": "",
       "description_tooltip": null,
       "layout": "IPY_MODEL_70062df79b794c81ae43a41104889f80",
       "max": 3.0,
       "min": 0.0,
       "orientation": "horizontal",
       "style": "IPY_MODEL_49cdb5dd98194d36b709d7a7f7d29e19",
       "value": 3.0
      }
     },
     "296e99f8695b4ada8d77dc586b1c1167": {
      "model_module": "@jupyter-widgets/controls",
      "model_module_version": "1.5.0",
      "model_name": "HTMLModel",
      "state": {
       "_dom_classes": [],
       "_model_module": "@jupyter-widgets/controls",
       "_model_module_version": "1.5.0",
       "_model_name": "HTMLModel",
       "_view_count": null,
       "_view_module": "@jupyter-widgets/controls",
       "_view_module_version": "1.5.0",
       "_view_name": "HTMLView",
       "description": "",
       "description_tooltip": null,
       "layout": "IPY_MODEL_c85f5c71bdc7466f9bde288886795b23",
       "placeholder": "​",
       "style": "IPY_MODEL_3ee6861bcb08456a9cc325f2c9bc3655",
       "value": " 3/3 [00:00&lt;00:00,  4.60it/s]"
      }
     },
     "3575f8fe991d4779a4cf21649d3a2c2d": {
      "model_module": "@jupyter-widgets/controls",
      "model_module_version": "1.5.0",
      "model_name": "HTMLModel",
      "state": {
       "_dom_classes": [],
       "_model_module": "@jupyter-widgets/controls",
       "_model_module_version": "1.5.0",
       "_model_name": "HTMLModel",
       "_view_count": null,
       "_view_module": "@jupyter-widgets/controls",
       "_view_module_version": "1.5.0",
       "_view_name": "HTMLView",
       "description": "",
       "description_tooltip": null,
       "layout": "IPY_MODEL_72691252864f48af845dfc05d6d1d52e",
       "placeholder": "​",
       "style": "IPY_MODEL_4d2f16f17c7d4567b5aef75c15704669",
       "value": " 3/3 [00:53&lt;00:00, 17.96s/it]"
      }
     },
     "397c21a19b1a482783e0f221dde52e38": {
      "model_module": "@jupyter-widgets/controls",
      "model_module_version": "1.5.0",
      "model_name": "DescriptionStyleModel",
      "state": {
       "_model_module": "@jupyter-widgets/controls",
       "_model_module_version": "1.5.0",
       "_model_name": "DescriptionStyleModel",
       "_view_count": null,
       "_view_module": "@jupyter-widgets/base",
       "_view_module_version": "1.2.0",
       "_view_name": "StyleView",
       "description_width": ""
      }
     },
     "3a5a01a2281c4e5696649f1e70412ba2": {
      "model_module": "@jupyter-widgets/controls",
      "model_module_version": "1.5.0",
      "model_name": "HTMLModel",
      "state": {
       "_dom_classes": [],
       "_model_module": "@jupyter-widgets/controls",
       "_model_module_version": "1.5.0",
       "_model_name": "HTMLModel",
       "_view_count": null,
       "_view_module": "@jupyter-widgets/controls",
       "_view_module_version": "1.5.0",
       "_view_name": "HTMLView",
       "description": "",
       "description_tooltip": null,
       "layout": "IPY_MODEL_7a8649b8a0174d5a8cae1dac9ae68e2d",
       "placeholder": "​",
       "style": "IPY_MODEL_7cc91249edec4116b2cdba74f65dd876",
       "value": "100%"
      }
     },
     "3ee6861bcb08456a9cc325f2c9bc3655": {
      "model_module": "@jupyter-widgets/controls",
      "model_module_version": "1.5.0",
      "model_name": "DescriptionStyleModel",
      "state": {
       "_model_module": "@jupyter-widgets/controls",
       "_model_module_version": "1.5.0",
       "_model_name": "DescriptionStyleModel",
       "_view_count": null,
       "_view_module": "@jupyter-widgets/base",
       "_view_module_version": "1.2.0",
       "_view_name": "StyleView",
       "description_width": ""
      }
     },
     "453d8e3727bc4b329035e4fe01d4ee68": {
      "model_module": "@jupyter-widgets/base",
      "model_module_version": "1.2.0",
      "model_name": "LayoutModel",
      "state": {
       "_model_module": "@jupyter-widgets/base",
       "_model_module_version": "1.2.0",
       "_model_name": "LayoutModel",
       "_view_count": null,
       "_view_module": "@jupyter-widgets/base",
       "_view_module_version": "1.2.0",
       "_view_name": "LayoutView",
       "align_content": null,
       "align_items": null,
       "align_self": null,
       "border": null,
       "bottom": null,
       "display": null,
       "flex": null,
       "flex_flow": null,
       "grid_area": null,
       "grid_auto_columns": null,
       "grid_auto_flow": null,
       "grid_auto_rows": null,
       "grid_column": null,
       "grid_gap": null,
       "grid_row": null,
       "grid_template_areas": null,
       "grid_template_columns": null,
       "grid_template_rows": null,
       "height": null,
       "justify_content": null,
       "justify_items": null,
       "left": null,
       "margin": null,
       "max_height": null,
       "max_width": null,
       "min_height": null,
       "min_width": null,
       "object_fit": null,
       "object_position": null,
       "order": null,
       "overflow": null,
       "overflow_x": null,
       "overflow_y": null,
       "padding": null,
       "right": null,
       "top": null,
       "visibility": null,
       "width": null
      }
     },
     "49cdb5dd98194d36b709d7a7f7d29e19": {
      "model_module": "@jupyter-widgets/controls",
      "model_module_version": "1.5.0",
      "model_name": "ProgressStyleModel",
      "state": {
       "_model_module": "@jupyter-widgets/controls",
       "_model_module_version": "1.5.0",
       "_model_name": "ProgressStyleModel",
       "_view_count": null,
       "_view_module": "@jupyter-widgets/base",
       "_view_module_version": "1.2.0",
       "_view_name": "StyleView",
       "bar_color": null,
       "description_width": ""
      }
     },
     "4d2f16f17c7d4567b5aef75c15704669": {
      "model_module": "@jupyter-widgets/controls",
      "model_module_version": "1.5.0",
      "model_name": "DescriptionStyleModel",
      "state": {
       "_model_module": "@jupyter-widgets/controls",
       "_model_module_version": "1.5.0",
       "_model_name": "DescriptionStyleModel",
       "_view_count": null,
       "_view_module": "@jupyter-widgets/base",
       "_view_module_version": "1.2.0",
       "_view_name": "StyleView",
       "description_width": ""
      }
     },
     "63fee4e51dc647feb24f086d230a9750": {
      "model_module": "@jupyter-widgets/base",
      "model_module_version": "1.2.0",
      "model_name": "LayoutModel",
      "state": {
       "_model_module": "@jupyter-widgets/base",
       "_model_module_version": "1.2.0",
       "_model_name": "LayoutModel",
       "_view_count": null,
       "_view_module": "@jupyter-widgets/base",
       "_view_module_version": "1.2.0",
       "_view_name": "LayoutView",
       "align_content": null,
       "align_items": null,
       "align_self": null,
       "border": null,
       "bottom": null,
       "display": null,
       "flex": null,
       "flex_flow": null,
       "grid_area": null,
       "grid_auto_columns": null,
       "grid_auto_flow": null,
       "grid_auto_rows": null,
       "grid_column": null,
       "grid_gap": null,
       "grid_row": null,
       "grid_template_areas": null,
       "grid_template_columns": null,
       "grid_template_rows": null,
       "height": null,
       "justify_content": null,
       "justify_items": null,
       "left": null,
       "margin": null,
       "max_height": null,
       "max_width": null,
       "min_height": null,
       "min_width": null,
       "object_fit": null,
       "object_position": null,
       "order": null,
       "overflow": null,
       "overflow_x": null,
       "overflow_y": null,
       "padding": null,
       "right": null,
       "top": null,
       "visibility": null,
       "width": null
      }
     },
     "6d907f641ab7413b8b8e102e07538273": {
      "model_module": "@jupyter-widgets/controls",
      "model_module_version": "1.5.0",
      "model_name": "HTMLModel",
      "state": {
       "_dom_classes": [],
       "_model_module": "@jupyter-widgets/controls",
       "_model_module_version": "1.5.0",
       "_model_name": "HTMLModel",
       "_view_count": null,
       "_view_module": "@jupyter-widgets/controls",
       "_view_module_version": "1.5.0",
       "_view_name": "HTMLView",
       "description": "",
       "description_tooltip": null,
       "layout": "IPY_MODEL_bf4b00eb03864f9dbdac0acea54ed0fc",
       "placeholder": "​",
       "style": "IPY_MODEL_c589f137f7f04bf483e21512f54263e9",
       "value": "100%"
      }
     },
     "70062df79b794c81ae43a41104889f80": {
      "model_module": "@jupyter-widgets/base",
      "model_module_version": "1.2.0",
      "model_name": "LayoutModel",
      "state": {
       "_model_module": "@jupyter-widgets/base",
       "_model_module_version": "1.2.0",
       "_model_name": "LayoutModel",
       "_view_count": null,
       "_view_module": "@jupyter-widgets/base",
       "_view_module_version": "1.2.0",
       "_view_name": "LayoutView",
       "align_content": null,
       "align_items": null,
       "align_self": null,
       "border": null,
       "bottom": null,
       "display": null,
       "flex": null,
       "flex_flow": null,
       "grid_area": null,
       "grid_auto_columns": null,
       "grid_auto_flow": null,
       "grid_auto_rows": null,
       "grid_column": null,
       "grid_gap": null,
       "grid_row": null,
       "grid_template_areas": null,
       "grid_template_columns": null,
       "grid_template_rows": null,
       "height": null,
       "justify_content": null,
       "justify_items": null,
       "left": null,
       "margin": null,
       "max_height": null,
       "max_width": null,
       "min_height": null,
       "min_width": null,
       "object_fit": null,
       "object_position": null,
       "order": null,
       "overflow": null,
       "overflow_x": null,
       "overflow_y": null,
       "padding": null,
       "right": null,
       "top": null,
       "visibility": null,
       "width": null
      }
     },
     "72691252864f48af845dfc05d6d1d52e": {
      "model_module": "@jupyter-widgets/base",
      "model_module_version": "1.2.0",
      "model_name": "LayoutModel",
      "state": {
       "_model_module": "@jupyter-widgets/base",
       "_model_module_version": "1.2.0",
       "_model_name": "LayoutModel",
       "_view_count": null,
       "_view_module": "@jupyter-widgets/base",
       "_view_module_version": "1.2.0",
       "_view_name": "LayoutView",
       "align_content": null,
       "align_items": null,
       "align_self": null,
       "border": null,
       "bottom": null,
       "display": null,
       "flex": null,
       "flex_flow": null,
       "grid_area": null,
       "grid_auto_columns": null,
       "grid_auto_flow": null,
       "grid_auto_rows": null,
       "grid_column": null,
       "grid_gap": null,
       "grid_row": null,
       "grid_template_areas": null,
       "grid_template_columns": null,
       "grid_template_rows": null,
       "height": null,
       "justify_content": null,
       "justify_items": null,
       "left": null,
       "margin": null,
       "max_height": null,
       "max_width": null,
       "min_height": null,
       "min_width": null,
       "object_fit": null,
       "object_position": null,
       "order": null,
       "overflow": null,
       "overflow_x": null,
       "overflow_y": null,
       "padding": null,
       "right": null,
       "top": null,
       "visibility": null,
       "width": null
      }
     },
     "7321d69c149a4649b3e78c2d77cc159f": {
      "model_module": "@jupyter-widgets/base",
      "model_module_version": "1.2.0",
      "model_name": "LayoutModel",
      "state": {
       "_model_module": "@jupyter-widgets/base",
       "_model_module_version": "1.2.0",
       "_model_name": "LayoutModel",
       "_view_count": null,
       "_view_module": "@jupyter-widgets/base",
       "_view_module_version": "1.2.0",
       "_view_name": "LayoutView",
       "align_content": null,
       "align_items": null,
       "align_self": null,
       "border": null,
       "bottom": null,
       "display": null,
       "flex": null,
       "flex_flow": null,
       "grid_area": null,
       "grid_auto_columns": null,
       "grid_auto_flow": null,
       "grid_auto_rows": null,
       "grid_column": null,
       "grid_gap": null,
       "grid_row": null,
       "grid_template_areas": null,
       "grid_template_columns": null,
       "grid_template_rows": null,
       "height": null,
       "justify_content": null,
       "justify_items": null,
       "left": null,
       "margin": null,
       "max_height": null,
       "max_width": null,
       "min_height": null,
       "min_width": null,
       "object_fit": null,
       "object_position": null,
       "order": null,
       "overflow": null,
       "overflow_x": null,
       "overflow_y": null,
       "padding": null,
       "right": null,
       "top": null,
       "visibility": null,
       "width": null
      }
     },
     "7a22ffba66444886b1ea01628b654853": {
      "model_module": "@jupyter-widgets/base",
      "model_module_version": "1.2.0",
      "model_name": "LayoutModel",
      "state": {
       "_model_module": "@jupyter-widgets/base",
       "_model_module_version": "1.2.0",
       "_model_name": "LayoutModel",
       "_view_count": null,
       "_view_module": "@jupyter-widgets/base",
       "_view_module_version": "1.2.0",
       "_view_name": "LayoutView",
       "align_content": null,
       "align_items": null,
       "align_self": null,
       "border": null,
       "bottom": null,
       "display": null,
       "flex": null,
       "flex_flow": null,
       "grid_area": null,
       "grid_auto_columns": null,
       "grid_auto_flow": null,
       "grid_auto_rows": null,
       "grid_column": null,
       "grid_gap": null,
       "grid_row": null,
       "grid_template_areas": null,
       "grid_template_columns": null,
       "grid_template_rows": null,
       "height": null,
       "justify_content": null,
       "justify_items": null,
       "left": null,
       "margin": null,
       "max_height": null,
       "max_width": null,
       "min_height": null,
       "min_width": null,
       "object_fit": null,
       "object_position": null,
       "order": null,
       "overflow": null,
       "overflow_x": null,
       "overflow_y": null,
       "padding": null,
       "right": null,
       "top": null,
       "visibility": null,
       "width": null
      }
     },
     "7a8649b8a0174d5a8cae1dac9ae68e2d": {
      "model_module": "@jupyter-widgets/base",
      "model_module_version": "1.2.0",
      "model_name": "LayoutModel",
      "state": {
       "_model_module": "@jupyter-widgets/base",
       "_model_module_version": "1.2.0",
       "_model_name": "LayoutModel",
       "_view_count": null,
       "_view_module": "@jupyter-widgets/base",
       "_view_module_version": "1.2.0",
       "_view_name": "LayoutView",
       "align_content": null,
       "align_items": null,
       "align_self": null,
       "border": null,
       "bottom": null,
       "display": null,
       "flex": null,
       "flex_flow": null,
       "grid_area": null,
       "grid_auto_columns": null,
       "grid_auto_flow": null,
       "grid_auto_rows": null,
       "grid_column": null,
       "grid_gap": null,
       "grid_row": null,
       "grid_template_areas": null,
       "grid_template_columns": null,
       "grid_template_rows": null,
       "height": null,
       "justify_content": null,
       "justify_items": null,
       "left": null,
       "margin": null,
       "max_height": null,
       "max_width": null,
       "min_height": null,
       "min_width": null,
       "object_fit": null,
       "object_position": null,
       "order": null,
       "overflow": null,
       "overflow_x": null,
       "overflow_y": null,
       "padding": null,
       "right": null,
       "top": null,
       "visibility": null,
       "width": null
      }
     },
     "7cc91249edec4116b2cdba74f65dd876": {
      "model_module": "@jupyter-widgets/controls",
      "model_module_version": "1.5.0",
      "model_name": "DescriptionStyleModel",
      "state": {
       "_model_module": "@jupyter-widgets/controls",
       "_model_module_version": "1.5.0",
       "_model_name": "DescriptionStyleModel",
       "_view_count": null,
       "_view_module": "@jupyter-widgets/base",
       "_view_module_version": "1.2.0",
       "_view_name": "StyleView",
       "description_width": ""
      }
     },
     "81a4a699cc804c7fa983ae0ad890eb4f": {
      "model_module": "@jupyter-widgets/base",
      "model_module_version": "1.2.0",
      "model_name": "LayoutModel",
      "state": {
       "_model_module": "@jupyter-widgets/base",
       "_model_module_version": "1.2.0",
       "_model_name": "LayoutModel",
       "_view_count": null,
       "_view_module": "@jupyter-widgets/base",
       "_view_module_version": "1.2.0",
       "_view_name": "LayoutView",
       "align_content": null,
       "align_items": null,
       "align_self": null,
       "border": null,
       "bottom": null,
       "display": null,
       "flex": null,
       "flex_flow": null,
       "grid_area": null,
       "grid_auto_columns": null,
       "grid_auto_flow": null,
       "grid_auto_rows": null,
       "grid_column": null,
       "grid_gap": null,
       "grid_row": null,
       "grid_template_areas": null,
       "grid_template_columns": null,
       "grid_template_rows": null,
       "height": null,
       "justify_content": null,
       "justify_items": null,
       "left": null,
       "margin": null,
       "max_height": null,
       "max_width": null,
       "min_height": null,
       "min_width": null,
       "object_fit": null,
       "object_position": null,
       "order": null,
       "overflow": null,
       "overflow_x": null,
       "overflow_y": null,
       "padding": null,
       "right": null,
       "top": null,
       "visibility": null,
       "width": null
      }
     },
     "965091f12e8049e9b36b06886e270dcb": {
      "model_module": "@jupyter-widgets/controls",
      "model_module_version": "1.5.0",
      "model_name": "FloatProgressModel",
      "state": {
       "_dom_classes": [],
       "_model_module": "@jupyter-widgets/controls",
       "_model_module_version": "1.5.0",
       "_model_name": "FloatProgressModel",
       "_view_count": null,
       "_view_module": "@jupyter-widgets/controls",
       "_view_module_version": "1.5.0",
       "_view_name": "ProgressView",
       "bar_style": "success",
       "description": "",
       "description_tooltip": null,
       "layout": "IPY_MODEL_63fee4e51dc647feb24f086d230a9750",
       "max": 3.0,
       "min": 0.0,
       "orientation": "horizontal",
       "style": "IPY_MODEL_d64eb5ef94944cf192117ebd012fc962",
       "value": 3.0
      }
     },
     "9e49f5c377ce48c88de7eee67990e5fe": {
      "model_module": "@jupyter-widgets/controls",
      "model_module_version": "1.5.0",
      "model_name": "FloatProgressModel",
      "state": {
       "_dom_classes": [],
       "_model_module": "@jupyter-widgets/controls",
       "_model_module_version": "1.5.0",
       "_model_name": "FloatProgressModel",
       "_view_count": null,
       "_view_module": "@jupyter-widgets/controls",
       "_view_module_version": "1.5.0",
       "_view_name": "ProgressView",
       "bar_style": "success",
       "description": "",
       "description_tooltip": null,
       "layout": "IPY_MODEL_7321d69c149a4649b3e78c2d77cc159f",
       "max": 9.0,
       "min": 0.0,
       "orientation": "horizontal",
       "style": "IPY_MODEL_c5f2585414444778a5da98535343d25c",
       "value": 9.0
      }
     },
     "a6a32039088a402484a7ff248180eec7": {
      "model_module": "@jupyter-widgets/base",
      "model_module_version": "1.2.0",
      "model_name": "LayoutModel",
      "state": {
       "_model_module": "@jupyter-widgets/base",
       "_model_module_version": "1.2.0",
       "_model_name": "LayoutModel",
       "_view_count": null,
       "_view_module": "@jupyter-widgets/base",
       "_view_module_version": "1.2.0",
       "_view_name": "LayoutView",
       "align_content": null,
       "align_items": null,
       "align_self": null,
       "border": null,
       "bottom": null,
       "display": null,
       "flex": null,
       "flex_flow": null,
       "grid_area": null,
       "grid_auto_columns": null,
       "grid_auto_flow": null,
       "grid_auto_rows": null,
       "grid_column": null,
       "grid_gap": null,
       "grid_row": null,
       "grid_template_areas": null,
       "grid_template_columns": null,
       "grid_template_rows": null,
       "height": null,
       "justify_content": null,
       "justify_items": null,
       "left": null,
       "margin": null,
       "max_height": null,
       "max_width": null,
       "min_height": null,
       "min_width": null,
       "object_fit": null,
       "object_position": null,
       "order": null,
       "overflow": null,
       "overflow_x": null,
       "overflow_y": null,
       "padding": null,
       "right": null,
       "top": null,
       "visibility": null,
       "width": null
      }
     },
     "bf4b00eb03864f9dbdac0acea54ed0fc": {
      "model_module": "@jupyter-widgets/base",
      "model_module_version": "1.2.0",
      "model_name": "LayoutModel",
      "state": {
       "_model_module": "@jupyter-widgets/base",
       "_model_module_version": "1.2.0",
       "_model_name": "LayoutModel",
       "_view_count": null,
       "_view_module": "@jupyter-widgets/base",
       "_view_module_version": "1.2.0",
       "_view_name": "LayoutView",
       "align_content": null,
       "align_items": null,
       "align_self": null,
       "border": null,
       "bottom": null,
       "display": null,
       "flex": null,
       "flex_flow": null,
       "grid_area": null,
       "grid_auto_columns": null,
       "grid_auto_flow": null,
       "grid_auto_rows": null,
       "grid_column": null,
       "grid_gap": null,
       "grid_row": null,
       "grid_template_areas": null,
       "grid_template_columns": null,
       "grid_template_rows": null,
       "height": null,
       "justify_content": null,
       "justify_items": null,
       "left": null,
       "margin": null,
       "max_height": null,
       "max_width": null,
       "min_height": null,
       "min_width": null,
       "object_fit": null,
       "object_position": null,
       "order": null,
       "overflow": null,
       "overflow_x": null,
       "overflow_y": null,
       "padding": null,
       "right": null,
       "top": null,
       "visibility": null,
       "width": null
      }
     },
     "c589f137f7f04bf483e21512f54263e9": {
      "model_module": "@jupyter-widgets/controls",
      "model_module_version": "1.5.0",
      "model_name": "DescriptionStyleModel",
      "state": {
       "_model_module": "@jupyter-widgets/controls",
       "_model_module_version": "1.5.0",
       "_model_name": "DescriptionStyleModel",
       "_view_count": null,
       "_view_module": "@jupyter-widgets/base",
       "_view_module_version": "1.2.0",
       "_view_name": "StyleView",
       "description_width": ""
      }
     },
     "c5f2585414444778a5da98535343d25c": {
      "model_module": "@jupyter-widgets/controls",
      "model_module_version": "1.5.0",
      "model_name": "ProgressStyleModel",
      "state": {
       "_model_module": "@jupyter-widgets/controls",
       "_model_module_version": "1.5.0",
       "_model_name": "ProgressStyleModel",
       "_view_count": null,
       "_view_module": "@jupyter-widgets/base",
       "_view_module_version": "1.2.0",
       "_view_name": "StyleView",
       "bar_color": null,
       "description_width": ""
      }
     },
     "c85f5c71bdc7466f9bde288886795b23": {
      "model_module": "@jupyter-widgets/base",
      "model_module_version": "1.2.0",
      "model_name": "LayoutModel",
      "state": {
       "_model_module": "@jupyter-widgets/base",
       "_model_module_version": "1.2.0",
       "_model_name": "LayoutModel",
       "_view_count": null,
       "_view_module": "@jupyter-widgets/base",
       "_view_module_version": "1.2.0",
       "_view_name": "LayoutView",
       "align_content": null,
       "align_items": null,
       "align_self": null,
       "border": null,
       "bottom": null,
       "display": null,
       "flex": null,
       "flex_flow": null,
       "grid_area": null,
       "grid_auto_columns": null,
       "grid_auto_flow": null,
       "grid_auto_rows": null,
       "grid_column": null,
       "grid_gap": null,
       "grid_row": null,
       "grid_template_areas": null,
       "grid_template_columns": null,
       "grid_template_rows": null,
       "height": null,
       "justify_content": null,
       "justify_items": null,
       "left": null,
       "margin": null,
       "max_height": null,
       "max_width": null,
       "min_height": null,
       "min_width": null,
       "object_fit": null,
       "object_position": null,
       "order": null,
       "overflow": null,
       "overflow_x": null,
       "overflow_y": null,
       "padding": null,
       "right": null,
       "top": null,
       "visibility": null,
       "width": null
      }
     },
     "d64eb5ef94944cf192117ebd012fc962": {
      "model_module": "@jupyter-widgets/controls",
      "model_module_version": "1.5.0",
      "model_name": "ProgressStyleModel",
      "state": {
       "_model_module": "@jupyter-widgets/controls",
       "_model_module_version": "1.5.0",
       "_model_name": "ProgressStyleModel",
       "_view_count": null,
       "_view_module": "@jupyter-widgets/base",
       "_view_module_version": "1.2.0",
       "_view_name": "StyleView",
       "bar_color": null,
       "description_width": ""
      }
     }
    },
    "version_major": 2,
    "version_minor": 0
   }
  }
 },
 "nbformat": 4,
 "nbformat_minor": 5
}
